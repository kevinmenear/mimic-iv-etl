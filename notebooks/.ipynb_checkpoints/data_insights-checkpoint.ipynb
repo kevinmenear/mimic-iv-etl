{
 "cells": [
  {
   "cell_type": "code",
   "execution_count": 1,
   "id": "98187a55-2adb-4a6b-9a83-d4562a442873",
   "metadata": {},
   "outputs": [],
   "source": [
    "from mimicfouretl.data_insights import create_ui"
   ]
  },
  {
   "cell_type": "code",
   "execution_count": 2,
   "id": "6f4a6ca1-44ef-4126-a736-a1f03078ed65",
   "metadata": {},
   "outputs": [
    {
     "name": "stdout",
     "output_type": "stream",
     "text": [
      "test\n"
     ]
    },
    {
     "data": {
      "application/vnd.jupyter.widget-view+json": {
       "model_id": "0bd45c96b4394d15ba8691253df05870",
       "version_major": 2,
       "version_minor": 0
      },
      "text/plain": [
       "Dropdown(description='Dataset:', options=('hosp/hospital_admissions (copy)', 'hosp/hospital_admissions'), valu…"
      ]
     },
     "metadata": {},
     "output_type": "display_data"
    },
    {
     "data": {
      "application/vnd.jupyter.widget-view+json": {
       "model_id": "ae3ea19aa978451d962bf6718d277661",
       "version_major": 2,
       "version_minor": 0
      },
      "text/plain": [
       "Output()"
      ]
     },
     "metadata": {},
     "output_type": "display_data"
    }
   ],
   "source": [
    "create_ui()"
   ]
  },
  {
   "cell_type": "code",
   "execution_count": null,
   "id": "d44a9080-a0e6-40de-bdaf-56a97068e39c",
   "metadata": {},
   "outputs": [],
   "source": []
  },
  {
   "cell_type": "code",
   "execution_count": null,
   "id": "83ccc973-4bb5-4e46-86f0-52cf0e5484ac",
   "metadata": {},
   "outputs": [],
   "source": []
  }
 ],
 "metadata": {
  "kernelspec": {
   "display_name": "Python 3 (ipykernel)",
   "language": "python",
   "name": "python3"
  },
  "language_info": {
   "codemirror_mode": {
    "name": "ipython",
    "version": 3
   },
   "file_extension": ".py",
   "mimetype": "text/x-python",
   "name": "python",
   "nbconvert_exporter": "python",
   "pygments_lexer": "ipython3",
   "version": "3.12.2"
  }
 },
 "nbformat": 4,
 "nbformat_minor": 5
}
