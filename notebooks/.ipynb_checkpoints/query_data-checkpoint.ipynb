{
 "cells": [
  {
   "cell_type": "code",
   "execution_count": 1,
   "id": "372c88e7-4835-41a5-ac88-a741db6d8c1c",
   "metadata": {},
   "outputs": [],
   "source": [
    "from google_auth_oauthlib.flow import InstalledAppFlow\n",
    "from google.cloud import bigquery"
   ]
  },
  {
   "cell_type": "code",
   "execution_count": 2,
   "id": "ea5f572d-f01a-4302-ae0f-95b4c3945f32",
   "metadata": {},
   "outputs": [
    {
     "name": "stdout",
     "output_type": "stream",
     "text": [
      "Please visit this URL to authorize this application: https://accounts.google.com/o/oauth2/auth?response_type=code&client_id=236933606679-n0530hpv6li2upvr6ibubbd7f3hik03j.apps.googleusercontent.com&redirect_uri=http%3A%2F%2Flocalhost%3A40569%2F&scope=https%3A%2F%2Fwww.googleapis.com%2Fauth%2Fbigquery&state=zqIJX3NTFrEKWI08sCHSEKm7mYBd9u&access_type=offline\n"
     ]
    }
   ],
   "source": [
    "# Place your client secret in the bq_credentials folder and change filename as necessary\n",
    "client_secrets_path = '../bq_credentials/client_secret.json'\n",
    "\n",
    "# Scopes determine what permissions the application requests\n",
    "scopes = [\"https://www.googleapis.com/auth/bigquery\"]\n",
    "\n",
    "flow = InstalledAppFlow.from_client_secrets_file(\n",
    "    client_secrets_path, scopes=scopes)\n",
    "credentials = flow.run_local_server(port=0)"
   ]
  },
  {
   "cell_type": "code",
   "execution_count": 3,
   "id": "cf6bcc40-24b2-47f7-80e5-9b60ebfb24b2",
   "metadata": {},
   "outputs": [],
   "source": [
    "# Create a BigQuery client using the acquired credentials\n",
    "project_id = 'mimic-iv-418015' # Your Project ID on Google BigQuery\n",
    "client = bigquery.Client(credentials=credentials, project=project_id)"
   ]
  },
  {
   "cell_type": "code",
   "execution_count": 4,
   "id": "b92ad007-31b1-4049-910a-2e6db2f6df23",
   "metadata": {},
   "outputs": [
    {
     "name": "stdout",
     "output_type": "stream",
     "text": [
      "Tables contained in 'physionet-data.mimiciv_hosp':\n",
      "physionet-data.mimiciv_hosp.admissions\n",
      "physionet-data.mimiciv_hosp.d_hcpcs\n",
      "physionet-data.mimiciv_hosp.d_icd_diagnoses\n",
      "physionet-data.mimiciv_hosp.d_icd_procedures\n",
      "physionet-data.mimiciv_hosp.d_labitems\n",
      "physionet-data.mimiciv_hosp.diagnoses_icd\n",
      "physionet-data.mimiciv_hosp.drgcodes\n",
      "physionet-data.mimiciv_hosp.emar\n",
      "physionet-data.mimiciv_hosp.emar_detail\n",
      "physionet-data.mimiciv_hosp.hcpcsevents\n",
      "physionet-data.mimiciv_hosp.labevents\n",
      "physionet-data.mimiciv_hosp.microbiologyevents\n",
      "physionet-data.mimiciv_hosp.omr\n",
      "physionet-data.mimiciv_hosp.patients\n",
      "physionet-data.mimiciv_hosp.pharmacy\n",
      "physionet-data.mimiciv_hosp.poe\n",
      "physionet-data.mimiciv_hosp.poe_detail\n",
      "physionet-data.mimiciv_hosp.prescriptions\n",
      "physionet-data.mimiciv_hosp.procedures_icd\n",
      "physionet-data.mimiciv_hosp.provider\n",
      "physionet-data.mimiciv_hosp.services\n",
      "physionet-data.mimiciv_hosp.transfers\n"
     ]
    }
   ],
   "source": [
    "# Example: Querying the dataset\n",
    "dataset_id = 'physionet-data.mimiciv_hosp'\n",
    "tables = client.list_tables(dataset_id)\n",
    "\n",
    "print(\"Tables contained in '{}':\".format(dataset_id))\n",
    "for table in tables:\n",
    "    print(\"{}.{}\".format(dataset_id, table.table_id))"
   ]
  },
  {
   "cell_type": "code",
   "execution_count": 5,
   "id": "baf28c53-7001-4634-be58-8ca04203e1b9",
   "metadata": {},
   "outputs": [],
   "source": [
    "# Example SQL query - replace with your actual query\n",
    "query = \"\"\"\n",
    "SELECT * FROM `physionet-data.mimiciv_hosp.admissions` LIMIT 10\n",
    "\"\"\"\n",
    "\n",
    "# Use the BigQuery client to run the query\n",
    "query_job = client.query(query)\n",
    "\n",
    "# Fetch the results\n",
    "results = query_job.result()  # Waits for the job to complete"
   ]
  },
  {
   "cell_type": "code",
   "execution_count": 6,
   "id": "292d19ba-f893-42fa-accc-6075f4d9c59c",
   "metadata": {},
   "outputs": [
    {
     "name": "stdout",
     "output_type": "stream",
     "text": [
      "Row((10106244, 26713233, datetime.datetime(2147, 5, 9, 10, 34), datetime.datetime(2147, 5, 12, 13, 43), None, 'DIRECT EMER.', None, 'PHYSICIAN REFERRAL', 'HOME', 'Other', 'ENGLISH', 'SINGLE', 'WHITE', None, None, 0), {'subject_id': 0, 'hadm_id': 1, 'admittime': 2, 'dischtime': 3, 'deathtime': 4, 'admission_type': 5, 'admit_provider_id': 6, 'admission_location': 7, 'discharge_location': 8, 'insurance': 9, 'language': 10, 'marital_status': 11, 'race': 12, 'edregtime': 13, 'edouttime': 14, 'hospital_expire_flag': 15})\n",
      "Row((13700703, 20448599, datetime.datetime(2172, 9, 25, 1, 1), datetime.datetime(2172, 10, 3, 13, 25), None, 'OBSERVATION ADMIT', None, 'EMERGENCY ROOM', 'HOME', 'Other', 'ENGLISH', 'MARRIED', 'WHITE', datetime.datetime(2172, 9, 24, 17, 38), datetime.datetime(2172, 9, 25, 3, 7), 0), {'subject_id': 0, 'hadm_id': 1, 'admittime': 2, 'dischtime': 3, 'deathtime': 4, 'admission_type': 5, 'admit_provider_id': 6, 'admission_location': 7, 'discharge_location': 8, 'insurance': 9, 'language': 10, 'marital_status': 11, 'race': 12, 'edregtime': 13, 'edouttime': 14, 'hospital_expire_flag': 15})\n",
      "Row((15443666, 27961368, datetime.datetime(2168, 12, 30, 23, 30), datetime.datetime(2169, 1, 5, 16, 2), None, 'OBSERVATION ADMIT', None, 'EMERGENCY ROOM', 'HOME HEALTH CARE', 'Other', 'ENGLISH', 'SINGLE', 'BLACK/AFRICAN AMERICAN', datetime.datetime(2168, 12, 30, 11, 19), datetime.datetime(2168, 12, 31, 1, 22), 0), {'subject_id': 0, 'hadm_id': 1, 'admittime': 2, 'dischtime': 3, 'deathtime': 4, 'admission_type': 5, 'admit_provider_id': 6, 'admission_location': 7, 'discharge_location': 8, 'insurance': 9, 'language': 10, 'marital_status': 11, 'race': 12, 'edregtime': 13, 'edouttime': 14, 'hospital_expire_flag': 15})\n",
      "Row((16299919, 26977065, datetime.datetime(2193, 5, 15, 8, 37), datetime.datetime(2193, 5, 17, 16, 3), None, 'OBSERVATION ADMIT', None, 'EMERGENCY ROOM', 'HOSPICE', 'Medicare', 'ENGLISH', 'WIDOWED', 'BLACK/AFRICAN AMERICAN', datetime.datetime(2193, 5, 15, 4, 36), datetime.datetime(2193, 5, 15, 14, 27), 0), {'subject_id': 0, 'hadm_id': 1, 'admittime': 2, 'dischtime': 3, 'deathtime': 4, 'admission_type': 5, 'admit_provider_id': 6, 'admission_location': 7, 'discharge_location': 8, 'insurance': 9, 'language': 10, 'marital_status': 11, 'race': 12, 'edregtime': 13, 'edouttime': 14, 'hospital_expire_flag': 15})\n",
      "Row((19596808, 26675460, datetime.datetime(2128, 6, 4, 16, 13), datetime.datetime(2128, 6, 5, 11, 36), None, 'EW EMER.', 'P0038O', 'EMERGENCY ROOM', 'HOME', 'Medicare', 'ENGLISH', 'MARRIED', 'WHITE', datetime.datetime(2128, 6, 4, 13, 25), datetime.datetime(2128, 6, 4, 16, 59), 0), {'subject_id': 0, 'hadm_id': 1, 'admittime': 2, 'dischtime': 3, 'deathtime': 4, 'admission_type': 5, 'admit_provider_id': 6, 'admission_location': 7, 'discharge_location': 8, 'insurance': 9, 'language': 10, 'marital_status': 11, 'race': 12, 'edregtime': 13, 'edouttime': 14, 'hospital_expire_flag': 15})\n",
      "Row((15868868, 27142491, datetime.datetime(2191, 8, 7, 13, 6), datetime.datetime(2191, 8, 11, 19, 55), None, 'URGENT', 'P004U7', 'WALK-IN/SELF REFERRAL', 'HOME HEALTH CARE', 'Medicare', 'ENGLISH', 'SINGLE', 'WHITE', datetime.datetime(2191, 8, 6, 18, 50), datetime.datetime(2191, 8, 7, 16, 30), 0), {'subject_id': 0, 'hadm_id': 1, 'admittime': 2, 'dischtime': 3, 'deathtime': 4, 'admission_type': 5, 'admit_provider_id': 6, 'admission_location': 7, 'discharge_location': 8, 'insurance': 9, 'language': 10, 'marital_status': 11, 'race': 12, 'edregtime': 13, 'edouttime': 14, 'hospital_expire_flag': 15})\n",
      "Row((11532813, 24829571, datetime.datetime(2160, 12, 18, 6, 59), datetime.datetime(2160, 12, 25, 14, 40), None, 'OBSERVATION ADMIT', 'P004U7', 'EMERGENCY ROOM', 'ACUTE HOSPITAL', 'Medicare', 'ENGLISH', 'SINGLE', 'WHITE', datetime.datetime(2160, 12, 17, 16, 20), datetime.datetime(2160, 12, 18, 8, 43), 0), {'subject_id': 0, 'hadm_id': 1, 'admittime': 2, 'dischtime': 3, 'deathtime': 4, 'admission_type': 5, 'admit_provider_id': 6, 'admission_location': 7, 'discharge_location': 8, 'insurance': 9, 'language': 10, 'marital_status': 11, 'race': 12, 'edregtime': 13, 'edouttime': 14, 'hospital_expire_flag': 15})\n",
      "Row((14527596, 28165014, datetime.datetime(2165, 11, 28, 19, 2), datetime.datetime(2165, 12, 7, 17, 23), None, 'URGENT', 'P005HP', 'TRANSFER FROM HOSPITAL', 'HOME', 'Medicaid', '?', 'MARRIED', 'BLACK/CARIBBEAN ISLAND', None, None, 0), {'subject_id': 0, 'hadm_id': 1, 'admittime': 2, 'dischtime': 3, 'deathtime': 4, 'admission_type': 5, 'admit_provider_id': 6, 'admission_location': 7, 'discharge_location': 8, 'insurance': 9, 'language': 10, 'marital_status': 11, 'race': 12, 'edregtime': 13, 'edouttime': 14, 'hospital_expire_flag': 15})\n",
      "Row((15902500, 27166666, datetime.datetime(2124, 10, 26, 19, 37), datetime.datetime(2124, 10, 28, 16, 30), None, 'URGENT', 'P005HP', 'TRANSFER FROM HOSPITAL', 'HOME', 'Medicare', 'ENGLISH', 'MARRIED', 'BLACK/CAPE VERDEAN', None, None, 0), {'subject_id': 0, 'hadm_id': 1, 'admittime': 2, 'dischtime': 3, 'deathtime': 4, 'admission_type': 5, 'admit_provider_id': 6, 'admission_location': 7, 'discharge_location': 8, 'insurance': 9, 'language': 10, 'marital_status': 11, 'race': 12, 'edregtime': 13, 'edouttime': 14, 'hospital_expire_flag': 15})\n",
      "Row((16625434, 25780525, datetime.datetime(2135, 9, 5, 17, 38), datetime.datetime(2135, 10, 14, 15, 8), None, 'URGENT', 'P005HP', 'TRANSFER FROM HOSPITAL', 'SKILLED NURSING FACILITY', 'Medicare', '?', 'SINGLE', 'WHITE', None, None, 0), {'subject_id': 0, 'hadm_id': 1, 'admittime': 2, 'dischtime': 3, 'deathtime': 4, 'admission_type': 5, 'admit_provider_id': 6, 'admission_location': 7, 'discharge_location': 8, 'insurance': 9, 'language': 10, 'marital_status': 11, 'race': 12, 'edregtime': 13, 'edouttime': 14, 'hospital_expire_flag': 15})\n"
     ]
    }
   ],
   "source": [
    "for r in results:\n",
    "    print(r)"
   ]
  },
  {
   "cell_type": "code",
   "execution_count": null,
   "id": "c4bb473a-8c35-44af-a4c7-d4aca06d2156",
   "metadata": {},
   "outputs": [],
   "source": []
  }
 ],
 "metadata": {
  "kernelspec": {
   "display_name": "Python 3 (ipykernel)",
   "language": "python",
   "name": "python3"
  },
  "language_info": {
   "codemirror_mode": {
    "name": "ipython",
    "version": 3
   },
   "file_extension": ".py",
   "mimetype": "text/x-python",
   "name": "python",
   "nbconvert_exporter": "python",
   "pygments_lexer": "ipython3",
   "version": "3.12.2"
  }
 },
 "nbformat": 4,
 "nbformat_minor": 5
}
