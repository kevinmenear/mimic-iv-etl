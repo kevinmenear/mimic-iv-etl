{
 "cells": [
  {
   "cell_type": "code",
   "execution_count": 1,
   "id": "39410edc-45cb-484a-93af-60a23ab4c3c2",
   "metadata": {},
   "outputs": [],
   "source": [
    "import mimicfouretl.bigquery_utils as bq\n",
    "import mimicfouretl.feature_engineering as fe"
   ]
  },
  {
   "cell_type": "code",
   "execution_count": 2,
   "id": "ee84893c-3f53-4130-96bc-5a9387d19f93",
   "metadata": {},
   "outputs": [],
   "source": [
    "bq.set_credentials_file('../bq_credentials/client_secret.json')\n",
    "bq.set_project_id('mimic-iv-418015')"
   ]
  },
  {
   "cell_type": "code",
   "execution_count": 3,
   "id": "dc8cd33d-c19e-434e-9c56-322c8c0ca12b",
   "metadata": {},
   "outputs": [
    {
     "name": "stdout",
     "output_type": "stream",
     "text": [
      "Please visit this URL to authorize this application: https://accounts.google.com/o/oauth2/auth?response_type=code&client_id=236933606679-n0530hpv6li2upvr6ibubbd7f3hik03j.apps.googleusercontent.com&redirect_uri=http%3A%2F%2Flocalhost%3A38351%2F&scope=https%3A%2F%2Fwww.googleapis.com%2Fauth%2Fbigquery&state=HB3ah01lNWND7Of3aFliNMJ40aZmw1&access_type=offline\n"
     ]
    }
   ],
   "source": [
    "client = bq.get_client()"
   ]
  },
  {
   "cell_type": "code",
   "execution_count": 4,
   "id": "8cec1d03-e5be-41c0-97c6-b44ed816ac56",
   "metadata": {},
   "outputs": [
    {
     "name": "stderr",
     "output_type": "stream",
     "text": [
      "24/03/22 21:03:01 WARN Utils: Your hostname, KGMSurface resolves to a loopback address: 127.0.1.1; using 10.0.0.136 instead (on interface wlp0s20f3)\n",
      "24/03/22 21:03:01 WARN Utils: Set SPARK_LOCAL_IP if you need to bind to another address\n"
     ]
    },
    {
     "name": "stdout",
     "output_type": "stream",
     "text": [
      ":: loading settings :: url = jar:file:/home/kevin/anaconda3/envs/mimic-iv-etl/lib/python3.12/site-packages/pyspark/jars/ivy-2.5.1.jar!/org/apache/ivy/core/settings/ivysettings.xml\n"
     ]
    },
    {
     "name": "stderr",
     "output_type": "stream",
     "text": [
      "Ivy Default Cache set to: /home/kevin/.ivy2/cache\n",
      "The jars for the packages stored in: /home/kevin/.ivy2/jars\n",
      "com.google.cloud.spark#spark-bigquery-with-dependencies_2.12 added as a dependency\n",
      ":: resolving dependencies :: org.apache.spark#spark-submit-parent-5795150d-2e08-480b-b1b8-13df70e31aec;1.0\n",
      "\tconfs: [default]\n",
      "\tfound com.google.cloud.spark#spark-bigquery-with-dependencies_2.12;0.37.0 in central\n",
      "\t[0.37.0] com.google.cloud.spark#spark-bigquery-with-dependencies_2.12;latest.version\n",
      ":: resolution report :: resolve 2034ms :: artifacts dl 2ms\n",
      "\t:: modules in use:\n",
      "\tcom.google.cloud.spark#spark-bigquery-with-dependencies_2.12;0.37.0 from central in [default]\n",
      "\t---------------------------------------------------------------------\n",
      "\t|                  |            modules            ||   artifacts   |\n",
      "\t|       conf       | number| search|dwnlded|evicted|| number|dwnlded|\n",
      "\t---------------------------------------------------------------------\n",
      "\t|      default     |   1   |   1   |   0   |   0   ||   1   |   0   |\n",
      "\t---------------------------------------------------------------------\n",
      ":: retrieving :: org.apache.spark#spark-submit-parent-5795150d-2e08-480b-b1b8-13df70e31aec\n",
      "\tconfs: [default]\n",
      "\t0 artifacts copied, 1 already retrieved (0kB/3ms)\n",
      "24/03/22 21:03:03 WARN NativeCodeLoader: Unable to load native-hadoop library for your platform... using builtin-java classes where applicable\n",
      "Setting default log level to \"WARN\".\n",
      "To adjust logging level use sc.setLogLevel(newLevel). For SparkR, use setLogLevel(newLevel).\n",
      "24/03/22 21:03:03 WARN Utils: Service 'SparkUI' could not bind on port 4040. Attempting port 4041.\n"
     ]
    }
   ],
   "source": [
    "spark = bq.get_spark_session(client)"
   ]
  },
  {
   "cell_type": "code",
   "execution_count": 5,
   "id": "60430d64-d7eb-49ad-aaf5-7ab9e1127eee",
   "metadata": {},
   "outputs": [],
   "source": [
    "chartEventsProcessor = fe.icuChartEventsProcessor(spark)"
   ]
  },
  {
   "cell_type": "code",
   "execution_count": 6,
   "id": "24ff2f5d-48a7-4bd4-b678-0668caaea304",
   "metadata": {},
   "outputs": [],
   "source": [
    "results = chartEventsProcessor.get_vital_signs_trends(220180)"
   ]
  },
  {
   "cell_type": "code",
   "execution_count": 8,
   "id": "14d3581b-1e21-4990-aa1c-4f86c5857be4",
   "metadata": {},
   "outputs": [
    {
     "name": "stderr",
     "output_type": "stream",
     "text": [
      "                                                                                \r"
     ]
    },
    {
     "data": {
      "text/html": [
       "<div>\n",
       "<style scoped>\n",
       "    .dataframe tbody tr th:only-of-type {\n",
       "        vertical-align: middle;\n",
       "    }\n",
       "\n",
       "    .dataframe tbody tr th {\n",
       "        vertical-align: top;\n",
       "    }\n",
       "\n",
       "    .dataframe thead th {\n",
       "        text-align: right;\n",
       "    }\n",
       "</style>\n",
       "<table border=\"1\" class=\"dataframe\">\n",
       "  <thead>\n",
       "    <tr style=\"text-align: right;\">\n",
       "      <th></th>\n",
       "      <th>subject_id</th>\n",
       "      <th>stay_id</th>\n",
       "      <th>itemid</th>\n",
       "      <th>trend</th>\n",
       "    </tr>\n",
       "  </thead>\n",
       "  <tbody>\n",
       "    <tr>\n",
       "      <th>0</th>\n",
       "      <td>18154240</td>\n",
       "      <td>32448449</td>\n",
       "      <td>220180</td>\n",
       "      <td>[81.0, 65.0, 68.0, 69.0, 60.0, 65.0, 57.0, 58....</td>\n",
       "    </tr>\n",
       "    <tr>\n",
       "      <th>1</th>\n",
       "      <td>13444096</td>\n",
       "      <td>35477442</td>\n",
       "      <td>220180</td>\n",
       "      <td>[47.0, 56.0, 48.0, 40.0, 44.0, 33.0, 55.0, 57....</td>\n",
       "    </tr>\n",
       "    <tr>\n",
       "      <th>2</th>\n",
       "      <td>12938496</td>\n",
       "      <td>30611160</td>\n",
       "      <td>220180</td>\n",
       "      <td>[109.0, 69.0, 73.0, 48.0, 60.0, 83.0, 70.0, 52...</td>\n",
       "    </tr>\n",
       "    <tr>\n",
       "      <th>3</th>\n",
       "      <td>19111424</td>\n",
       "      <td>32024322</td>\n",
       "      <td>220180</td>\n",
       "      <td>[59.0, 57.0, 52.0, 54.0, 60.0, 73.0, 96.0, 88....</td>\n",
       "    </tr>\n",
       "    <tr>\n",
       "      <th>4</th>\n",
       "      <td>16454913</td>\n",
       "      <td>30353294</td>\n",
       "      <td>220180</td>\n",
       "      <td>[59.0, 56.0, 59.0, 71.0, 49.0, 54.0, 57.0, 58....</td>\n",
       "    </tr>\n",
       "    <tr>\n",
       "      <th>5</th>\n",
       "      <td>10885377</td>\n",
       "      <td>32384974</td>\n",
       "      <td>220180</td>\n",
       "      <td>[81.0, 80.0, 70.0, 59.0, 60.0, 67.0, 86.0, 67....</td>\n",
       "    </tr>\n",
       "    <tr>\n",
       "      <th>6</th>\n",
       "      <td>17452545</td>\n",
       "      <td>37658433</td>\n",
       "      <td>220180</td>\n",
       "      <td>[41.0, 43.0, 59.0, 60.0, 75.0, 50.0, 40.0, 46....</td>\n",
       "    </tr>\n",
       "    <tr>\n",
       "      <th>7</th>\n",
       "      <td>11885313</td>\n",
       "      <td>32768109</td>\n",
       "      <td>220180</td>\n",
       "      <td>[58.0, 61.0, 58.0, 66.0, 59.0, 65.0, 59.0, 68....</td>\n",
       "    </tr>\n",
       "    <tr>\n",
       "      <th>8</th>\n",
       "      <td>15754497</td>\n",
       "      <td>39630835</td>\n",
       "      <td>220180</td>\n",
       "      <td>[91.0, 70.0, 72.0, 72.0, 77.0, 79.0, 75.0, 76....</td>\n",
       "    </tr>\n",
       "    <tr>\n",
       "      <th>9</th>\n",
       "      <td>13931777</td>\n",
       "      <td>39243486</td>\n",
       "      <td>220180</td>\n",
       "      <td>[58.0, 45.0, 49.0, 57.0, 57.0, 60.0, 54.0, 61....</td>\n",
       "    </tr>\n",
       "  </tbody>\n",
       "</table>\n",
       "</div>"
      ],
      "text/plain": [
       "   subject_id   stay_id  itemid  \\\n",
       "0    18154240  32448449  220180   \n",
       "1    13444096  35477442  220180   \n",
       "2    12938496  30611160  220180   \n",
       "3    19111424  32024322  220180   \n",
       "4    16454913  30353294  220180   \n",
       "5    10885377  32384974  220180   \n",
       "6    17452545  37658433  220180   \n",
       "7    11885313  32768109  220180   \n",
       "8    15754497  39630835  220180   \n",
       "9    13931777  39243486  220180   \n",
       "\n",
       "                                               trend  \n",
       "0  [81.0, 65.0, 68.0, 69.0, 60.0, 65.0, 57.0, 58....  \n",
       "1  [47.0, 56.0, 48.0, 40.0, 44.0, 33.0, 55.0, 57....  \n",
       "2  [109.0, 69.0, 73.0, 48.0, 60.0, 83.0, 70.0, 52...  \n",
       "3  [59.0, 57.0, 52.0, 54.0, 60.0, 73.0, 96.0, 88....  \n",
       "4  [59.0, 56.0, 59.0, 71.0, 49.0, 54.0, 57.0, 58....  \n",
       "5  [81.0, 80.0, 70.0, 59.0, 60.0, 67.0, 86.0, 67....  \n",
       "6  [41.0, 43.0, 59.0, 60.0, 75.0, 50.0, 40.0, 46....  \n",
       "7  [58.0, 61.0, 58.0, 66.0, 59.0, 65.0, 59.0, 68....  \n",
       "8  [91.0, 70.0, 72.0, 72.0, 77.0, 79.0, 75.0, 76....  \n",
       "9  [58.0, 45.0, 49.0, 57.0, 57.0, 60.0, 54.0, 61....  "
      ]
     },
     "metadata": {},
     "output_type": "display_data"
    }
   ],
   "source": [
    "bq.display_sampled_df(results)"
   ]
  },
  {
   "cell_type": "code",
   "execution_count": null,
   "id": "97ef122b-de97-452b-839f-f6b11772110a",
   "metadata": {},
   "outputs": [],
   "source": []
  }
 ],
 "metadata": {
  "kernelspec": {
   "display_name": "Python 3 (ipykernel)",
   "language": "python",
   "name": "python3"
  },
  "language_info": {
   "codemirror_mode": {
    "name": "ipython",
    "version": 3
   },
   "file_extension": ".py",
   "mimetype": "text/x-python",
   "name": "python",
   "nbconvert_exporter": "python",
   "pygments_lexer": "ipython3",
   "version": "3.12.2"
  }
 },
 "nbformat": 4,
 "nbformat_minor": 5
}
