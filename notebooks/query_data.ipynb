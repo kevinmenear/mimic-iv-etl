{
 "cells": [
  {
   "cell_type": "code",
   "execution_count": null,
   "id": "c4bb473a-8c35-44af-a4c7-d4aca06d2156",
   "metadata": {},
   "outputs": [],
   "source": [
    "import mimicfouretl.bigquery_utils as bq"
   ]
  },
  {
   "cell_type": "code",
   "execution_count": null,
   "id": "76520391-e946-4b6b-928c-eea42220b75f",
   "metadata": {},
   "outputs": [],
   "source": [
    "bq.set_credentials_file('../bq_credentials/client_secret.json')\n",
    "bq.set_project_id('mimic-iv-418015')\n",
    "#bq.set_project_id('micro-vine-412020')"
   ]
  },
  {
   "cell_type": "code",
   "execution_count": null,
   "id": "29ad9bbb-078a-4d9d-976d-c1069828071a",
   "metadata": {},
   "outputs": [],
   "source": [
    "client = bq.get_client()\n",
    "# tables = bq.list_tables(client, 'micro-vine-412020.mimic_iv')\n",
    "tables = bq.list_tables(client, 'physionet-data.mimiciv_hosp')\n",
    "tables"
   ]
  },
  {
   "cell_type": "code",
   "execution_count": null,
   "id": "124e30ec-3a3a-4985-8d14-c7b4f57aaf35",
   "metadata": {},
   "outputs": [],
   "source": [
    "spark = bq.get_spark_session(client)"
   ]
  },
  {
   "cell_type": "code",
   "execution_count": null,
   "id": "42bf4775-39e4-4902-87ca-1a989e07963c",
   "metadata": {},
   "outputs": [],
   "source": [
    "# results = bq.run_query(spark, \"SELECT * FROM `physionet-data.mimiciv_hosp.admissions` LIMIT 10\")\n",
    "results = bq.run_query(spark, \"SELECT * FROM `micro-vine-412020.mimic_iv.hosp_admissions` LIMIT 10\")"
   ]
  },
  {
   "cell_type": "code",
   "execution_count": null,
   "id": "1e2cb7c2-14e6-46be-a5b6-dc022b20ac61",
   "metadata": {},
   "outputs": [],
   "source": [
    "# bq.display_sampled_df(results)"
   ]
  },
  {
   "cell_type": "code",
   "execution_count": null,
   "id": "65dac6d9-8f8a-4b93-a6f6-674a81e2e7f2",
   "metadata": {},
   "outputs": [],
   "source": []
  }
 ],
 "metadata": {
  "kernelspec": {
   "display_name": "Python 3 (ipykernel)",
   "language": "python",
   "name": "python3"
  },
  "language_info": {
   "codemirror_mode": {
    "name": "ipython",
    "version": 3
   },
   "file_extension": ".py",
   "mimetype": "text/x-python",
   "name": "python",
   "nbconvert_exporter": "python",
   "pygments_lexer": "ipython3",
   "version": "3.12.2"
  }
 },
 "nbformat": 4,
 "nbformat_minor": 5
}
