{
 "cells": [
  {
   "cell_type": "code",
   "execution_count": 1,
   "id": "c4bb473a-8c35-44af-a4c7-d4aca06d2156",
   "metadata": {},
   "outputs": [],
   "source": [
    "import mimicfouretl.bigquery_utils as bq"
   ]
  },
  {
   "cell_type": "code",
   "execution_count": 2,
   "id": "76520391-e946-4b6b-928c-eea42220b75f",
   "metadata": {},
   "outputs": [],
   "source": [
    "bq.set_credentials_file('../bq_credentials/client_secret.json')\n",
    "bq.set_project_id('mimic-iv-418015')"
   ]
  },
  {
   "cell_type": "code",
   "execution_count": 3,
   "id": "29ad9bbb-078a-4d9d-976d-c1069828071a",
   "metadata": {},
   "outputs": [
    {
     "name": "stdout",
     "output_type": "stream",
     "text": [
      "Please visit this URL to authorize this application: https://accounts.google.com/o/oauth2/auth?response_type=code&client_id=236933606679-n0530hpv6li2upvr6ibubbd7f3hik03j.apps.googleusercontent.com&redirect_uri=http%3A%2F%2Flocalhost%3A41025%2F&scope=https%3A%2F%2Fwww.googleapis.com%2Fauth%2Fbigquery&state=PdydbyhgXeqhoPyAPGQWAPasr7h1Yu&access_type=offline\n"
     ]
    }
   ],
   "source": [
    "client = bq.get_client()"
   ]
  },
  {
   "cell_type": "code",
   "execution_count": 4,
   "id": "5d39ccd6-c980-40c2-bbf6-7a3bc046f983",
   "metadata": {},
   "outputs": [
    {
     "data": {
      "text/plain": [
       "['physionet-data.mimiciv_hosp.admissions',\n",
       " 'physionet-data.mimiciv_hosp.d_hcpcs',\n",
       " 'physionet-data.mimiciv_hosp.d_icd_diagnoses',\n",
       " 'physionet-data.mimiciv_hosp.d_icd_procedures',\n",
       " 'physionet-data.mimiciv_hosp.d_labitems',\n",
       " 'physionet-data.mimiciv_hosp.diagnoses_icd',\n",
       " 'physionet-data.mimiciv_hosp.drgcodes',\n",
       " 'physionet-data.mimiciv_hosp.emar',\n",
       " 'physionet-data.mimiciv_hosp.emar_detail',\n",
       " 'physionet-data.mimiciv_hosp.hcpcsevents',\n",
       " 'physionet-data.mimiciv_hosp.labevents',\n",
       " 'physionet-data.mimiciv_hosp.microbiologyevents',\n",
       " 'physionet-data.mimiciv_hosp.omr',\n",
       " 'physionet-data.mimiciv_hosp.patients',\n",
       " 'physionet-data.mimiciv_hosp.pharmacy',\n",
       " 'physionet-data.mimiciv_hosp.poe',\n",
       " 'physionet-data.mimiciv_hosp.poe_detail',\n",
       " 'physionet-data.mimiciv_hosp.prescriptions',\n",
       " 'physionet-data.mimiciv_hosp.procedures_icd',\n",
       " 'physionet-data.mimiciv_hosp.provider',\n",
       " 'physionet-data.mimiciv_hosp.services',\n",
       " 'physionet-data.mimiciv_hosp.transfers']"
      ]
     },
     "execution_count": 4,
     "metadata": {},
     "output_type": "execute_result"
    }
   ],
   "source": [
    "tables = bq.list_tables(client, 'physionet-data.mimiciv_hosp')\n",
    "tables"
   ]
  },
  {
   "cell_type": "code",
   "execution_count": 5,
   "id": "124e30ec-3a3a-4985-8d14-c7b4f57aaf35",
   "metadata": {},
   "outputs": [
    {
     "name": "stderr",
     "output_type": "stream",
     "text": [
      "24/03/22 16:50:23 WARN Utils: Your hostname, KGMSurface resolves to a loopback address: 127.0.1.1; using 10.0.0.136 instead (on interface wlp0s20f3)\n",
      "24/03/22 16:50:23 WARN Utils: Set SPARK_LOCAL_IP if you need to bind to another address\n"
     ]
    },
    {
     "name": "stdout",
     "output_type": "stream",
     "text": [
      ":: loading settings :: url = jar:file:/home/kevin/anaconda3/envs/mimic-iv-etl/lib/python3.12/site-packages/pyspark/jars/ivy-2.5.1.jar!/org/apache/ivy/core/settings/ivysettings.xml\n"
     ]
    },
    {
     "name": "stderr",
     "output_type": "stream",
     "text": [
      "Ivy Default Cache set to: /home/kevin/.ivy2/cache\n",
      "The jars for the packages stored in: /home/kevin/.ivy2/jars\n",
      "com.google.cloud.spark#spark-bigquery-with-dependencies_2.12 added as a dependency\n",
      ":: resolving dependencies :: org.apache.spark#spark-submit-parent-9b0344b8-c586-4f3d-ae8b-693a20b14f61;1.0\n",
      "\tconfs: [default]\n",
      "\tfound com.google.cloud.spark#spark-bigquery-with-dependencies_2.12;0.37.0 in central\n",
      "\t[0.37.0] com.google.cloud.spark#spark-bigquery-with-dependencies_2.12;latest.version\n",
      ":: resolution report :: resolve 2274ms :: artifacts dl 3ms\n",
      "\t:: modules in use:\n",
      "\tcom.google.cloud.spark#spark-bigquery-with-dependencies_2.12;0.37.0 from central in [default]\n",
      "\t---------------------------------------------------------------------\n",
      "\t|                  |            modules            ||   artifacts   |\n",
      "\t|       conf       | number| search|dwnlded|evicted|| number|dwnlded|\n",
      "\t---------------------------------------------------------------------\n",
      "\t|      default     |   1   |   1   |   0   |   0   ||   1   |   0   |\n",
      "\t---------------------------------------------------------------------\n",
      ":: retrieving :: org.apache.spark#spark-submit-parent-9b0344b8-c586-4f3d-ae8b-693a20b14f61\n",
      "\tconfs: [default]\n",
      "\t0 artifacts copied, 1 already retrieved (0kB/3ms)\n",
      "24/03/22 16:50:26 WARN NativeCodeLoader: Unable to load native-hadoop library for your platform... using builtin-java classes where applicable\n",
      "Setting default log level to \"WARN\".\n",
      "To adjust logging level use sc.setLogLevel(newLevel). For SparkR, use setLogLevel(newLevel).\n"
     ]
    }
   ],
   "source": [
    "spark = bq.get_spark_session(client)"
   ]
  },
  {
   "cell_type": "code",
   "execution_count": 6,
   "id": "42bf4775-39e4-4902-87ca-1a989e07963c",
   "metadata": {},
   "outputs": [
    {
     "data": {
      "text/plain": [
       "DataFrame[subject_id: bigint, hadm_id: bigint, admittime: string, dischtime: string, deathtime: string, admission_type: string, admit_provider_id: string, admission_location: string, discharge_location: string, insurance: string, language: string, marital_status: string, race: string, edregtime: string, edouttime: string, hospital_expire_flag: bigint]"
      ]
     },
     "metadata": {},
     "output_type": "display_data"
    }
   ],
   "source": [
    "results = bq.run_query(spark, \"SELECT * FROM `physionet-data.mimiciv_hosp.admissions` LIMIT 10\")\n",
    "display(results)"
   ]
  },
  {
   "cell_type": "code",
   "execution_count": 8,
   "id": "1e2cb7c2-14e6-46be-a5b6-dc022b20ac61",
   "metadata": {},
   "outputs": [
    {
     "name": "stderr",
     "output_type": "stream",
     "text": [
      "                                                                                \r"
     ]
    },
    {
     "name": "stdout",
     "output_type": "stream",
     "text": [
      "+----------+--------+----------------+----------------+---------+-----------------+-----------------+--------------------+--------------------+---------+--------+--------------+--------------------+----------------+----------------+--------------------+\n",
      "|subject_id| hadm_id|       admittime|       dischtime|deathtime|   admission_type|admit_provider_id|  admission_location|  discharge_location|insurance|language|marital_status|                race|       edregtime|       edouttime|hospital_expire_flag|\n",
      "+----------+--------+----------------+----------------+---------+-----------------+-----------------+--------------------+--------------------+---------+--------+--------------+--------------------+----------------+----------------+--------------------+\n",
      "|  15443666|27961368|2168-12-30T23:30|2169-01-05T16:02|     NULL|OBSERVATION ADMIT|             NULL|      EMERGENCY ROOM|    HOME HEALTH CARE|    Other| ENGLISH|        SINGLE|BLACK/AFRICAN AME...|2168-12-30T11:19|2168-12-31T01:22|                   0|\n",
      "|  10106244|26713233|2147-05-09T10:34|2147-05-12T13:43|     NULL|     DIRECT EMER.|             NULL|  PHYSICIAN REFERRAL|                HOME|    Other| ENGLISH|        SINGLE|               WHITE|            NULL|            NULL|                   0|\n",
      "|  16299919|26977065|2193-05-15T08:37|2193-05-17T16:03|     NULL|OBSERVATION ADMIT|             NULL|      EMERGENCY ROOM|             HOSPICE| Medicare| ENGLISH|       WIDOWED|BLACK/AFRICAN AME...|2193-05-15T04:36|2193-05-15T14:27|                   0|\n",
      "|  13700703|20448599|2172-09-25T01:01|2172-10-03T13:25|     NULL|OBSERVATION ADMIT|             NULL|      EMERGENCY ROOM|                HOME|    Other| ENGLISH|       MARRIED|               WHITE|2172-09-24T17:38|2172-09-25T03:07|                   0|\n",
      "|  19596808|26675460|2128-06-04T16:13|2128-06-05T11:36|     NULL|         EW EMER.|           P0038O|      EMERGENCY ROOM|                HOME| Medicare| ENGLISH|       MARRIED|               WHITE|2128-06-04T13:25|2128-06-04T16:59|                   0|\n",
      "|  11532813|24829571|2160-12-18T06:59|2160-12-25T14:40|     NULL|OBSERVATION ADMIT|           P004U7|      EMERGENCY ROOM|      ACUTE HOSPITAL| Medicare| ENGLISH|        SINGLE|               WHITE|2160-12-17T16:20|2160-12-18T08:43|                   0|\n",
      "|  15868868|27142491|2191-08-07T13:06|2191-08-11T19:55|     NULL|           URGENT|           P004U7|WALK-IN/SELF REFE...|    HOME HEALTH CARE| Medicare| ENGLISH|        SINGLE|               WHITE|2191-08-06T18:50|2191-08-07T16:30|                   0|\n",
      "|  15902500|27166666|2124-10-26T19:37|2124-10-28T16:30|     NULL|           URGENT|           P005HP|TRANSFER FROM HOS...|                HOME| Medicare| ENGLISH|       MARRIED|  BLACK/CAPE VERDEAN|            NULL|            NULL|                   0|\n",
      "|  16625434|25780525|2135-09-05T17:38|2135-10-14T15:08|     NULL|           URGENT|           P005HP|TRANSFER FROM HOS...|SKILLED NURSING F...| Medicare|       ?|        SINGLE|               WHITE|            NULL|            NULL|                   0|\n",
      "|  14527596|28165014|2165-11-28T19:02|2165-12-07T17:23|     NULL|           URGENT|           P005HP|TRANSFER FROM HOS...|                HOME| Medicaid|       ?|       MARRIED|BLACK/CARIBBEAN I...|            NULL|            NULL|                   0|\n",
      "+----------+--------+----------------+----------------+---------+-----------------+-----------------+--------------------+--------------------+---------+--------+--------------+--------------------+----------------+----------------+--------------------+\n",
      "\n"
     ]
    }
   ],
   "source": [
    "results.show()"
   ]
  }
 ],
 "metadata": {
  "kernelspec": {
   "display_name": "Python 3 (ipykernel)",
   "language": "python",
   "name": "python3"
  },
  "language_info": {
   "codemirror_mode": {
    "name": "ipython",
    "version": 3
   },
   "file_extension": ".py",
   "mimetype": "text/x-python",
   "name": "python",
   "nbconvert_exporter": "python",
   "pygments_lexer": "ipython3",
   "version": "3.12.2"
  }
 },
 "nbformat": 4,
 "nbformat_minor": 5
}
