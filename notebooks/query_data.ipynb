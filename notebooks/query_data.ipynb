{
 "cells": [
  {
   "cell_type": "code",
   "execution_count": 1,
   "id": "c4bb473a-8c35-44af-a4c7-d4aca06d2156",
   "metadata": {},
   "outputs": [],
   "source": [
    "import mimicfouretl.bigquery_utils as bq"
   ]
  },
  {
   "cell_type": "markdown",
   "id": "94b25fcb",
   "metadata": {},
   "source": [
    "### Example Usage with BigQuery Connection\n",
    "Requires users to get access to Physionet data "
   ]
  },
  {
   "cell_type": "code",
   "execution_count": 2,
   "id": "76520391-e946-4b6b-928c-eea42220b75f",
   "metadata": {},
   "outputs": [],
   "source": [
    "bq.set_credentials_file('../bq_credentials/client_secret.json')\n",
    "# bq.set_project_id('mimic-iv-418015')\n",
    "bq.set_project_id('micro-vine-412020')"
   ]
  },
  {
   "cell_type": "code",
   "execution_count": 3,
   "id": "29ad9bbb-078a-4d9d-976d-c1069828071a",
   "metadata": {},
   "outputs": [
    {
     "data": {
      "text/plain": [
       "['mimiciv_icu.caregiver',\n",
       " 'mimiciv_icu.chartevents',\n",
       " 'mimiciv_icu.d_items',\n",
       " 'mimiciv_icu.datetimeevents',\n",
       " 'mimiciv_icu.icustays',\n",
       " 'mimiciv_icu.ingredientevents',\n",
       " 'mimiciv_icu.inputevents',\n",
       " 'mimiciv_icu.outputevents',\n",
       " 'mimiciv_icu.procedureevents']"
      ]
     },
     "execution_count": 3,
     "metadata": {},
     "output_type": "execute_result"
    }
   ],
   "source": [
    "client = bq.get_client(use_service_account_auth=True)\n",
    "tables = bq.list_tables('mimiciv_icu', client)\n",
    "# tables = bq.list_tables(client, 'physionet-data.mimiciv_hosp')\n",
    "tables"
   ]
  },
  {
   "cell_type": "code",
   "execution_count": 4,
   "id": "124e30ec-3a3a-4985-8d14-c7b4f57aaf35",
   "metadata": {},
   "outputs": [
    {
     "name": "stderr",
     "output_type": "stream",
     "text": [
      "24/03/28 21:20:14 WARN Utils: Your hostname, Dunyas-Laptop.local resolves to a loopback address: 127.0.0.1; using 10.0.0.117 instead (on interface en0)\n",
      "24/03/28 21:20:14 WARN Utils: Set SPARK_LOCAL_IP if you need to bind to another address\n",
      "Ivy Default Cache set to: /Users/dunyaoguz/.ivy2/cache\n",
      "The jars for the packages stored in: /Users/dunyaoguz/.ivy2/jars\n",
      "com.google.cloud.spark#spark-bigquery-with-dependencies_2.12 added as a dependency\n",
      ":: resolving dependencies :: org.apache.spark#spark-submit-parent-82f2b250-1fda-44eb-bf38-8843a850d08b;1.0\n",
      "\tconfs: [default]\n"
     ]
    },
    {
     "name": "stdout",
     "output_type": "stream",
     "text": [
      ":: loading settings :: url = jar:file:/Users/dunyaoguz/anaconda3/envs/mimic-iv-etl/lib/python3.12/site-packages/pyspark/jars/ivy-2.5.1.jar!/org/apache/ivy/core/settings/ivysettings.xml\n"
     ]
    },
    {
     "name": "stderr",
     "output_type": "stream",
     "text": [
      "\tfound com.google.cloud.spark#spark-bigquery-with-dependencies_2.12;0.37.0 in central\n",
      "\t[0.37.0] com.google.cloud.spark#spark-bigquery-with-dependencies_2.12;latest.version\n",
      ":: resolution report :: resolve 1143ms :: artifacts dl 3ms\n",
      "\t:: modules in use:\n",
      "\tcom.google.cloud.spark#spark-bigquery-with-dependencies_2.12;0.37.0 from central in [default]\n",
      "\t---------------------------------------------------------------------\n",
      "\t|                  |            modules            ||   artifacts   |\n",
      "\t|       conf       | number| search|dwnlded|evicted|| number|dwnlded|\n",
      "\t---------------------------------------------------------------------\n",
      "\t|      default     |   1   |   1   |   0   |   0   ||   1   |   0   |\n",
      "\t---------------------------------------------------------------------\n",
      ":: retrieving :: org.apache.spark#spark-submit-parent-82f2b250-1fda-44eb-bf38-8843a850d08b\n",
      "\tconfs: [default]\n",
      "\t0 artifacts copied, 1 already retrieved (0kB/6ms)\n",
      "24/03/28 21:20:15 WARN NativeCodeLoader: Unable to load native-hadoop library for your platform... using builtin-java classes where applicable\n",
      "Setting default log level to \"WARN\".\n",
      "To adjust logging level use sc.setLogLevel(newLevel). For SparkR, use setLogLevel(newLevel).\n"
     ]
    }
   ],
   "source": [
    "spark = bq.get_spark_session(use_service_account_auth=True)"
   ]
  },
  {
   "cell_type": "code",
   "execution_count": 6,
   "id": "42bf4775-39e4-4902-87ca-1a989e07963c",
   "metadata": {},
   "outputs": [],
   "source": [
    "results = bq.run_query(spark, \"SELECT * FROM `mimiciv_hosp.admissions` LIMIT 10\")"
   ]
  },
  {
   "cell_type": "markdown",
   "id": "8644d083",
   "metadata": {},
   "source": [
    "### Example Usage with Local Connection\n",
    "Use a local copy of a sample of physionet data"
   ]
  },
  {
   "cell_type": "code",
   "execution_count": 3,
   "id": "1e2cb7c2-14e6-46be-a5b6-dc022b20ac61",
   "metadata": {},
   "outputs": [
    {
     "name": "stderr",
     "output_type": "stream",
     "text": [
      "Setting default log level to \"WARN\".\n",
      "To adjust logging level use sc.setLogLevel(newLevel). For SparkR, use setLogLevel(newLevel).\n",
      "24/03/28 21:23:17 WARN NativeCodeLoader: Unable to load native-hadoop library for your platform... using builtin-java classes where applicable\n"
     ]
    }
   ],
   "source": [
    "spark = bq.get_spark_session(use_local_data=True)"
   ]
  },
  {
   "cell_type": "code",
   "execution_count": 4,
   "id": "dabc9624",
   "metadata": {},
   "outputs": [
    {
     "data": {
      "text/plain": [
       "['mimiciv_icu.d_items',\n",
       " 'mimiciv_icu.inputevents',\n",
       " 'mimiciv_icu.chartevents',\n",
       " 'mimiciv_icu.icustays',\n",
       " 'mimiciv_icu.datetimeevents',\n",
       " 'mimiciv_icu.outputevents',\n",
       " 'mimiciv_icu.ingredientevents',\n",
       " 'mimiciv_icu.procedureevents']"
      ]
     },
     "execution_count": 4,
     "metadata": {},
     "output_type": "execute_result"
    }
   ],
   "source": [
    "tables = bq.list_tables('mimiciv_icu', spark, use_local_data=True)\n",
    "tables"
   ]
  },
  {
   "cell_type": "code",
   "execution_count": 5,
   "id": "b9e04682",
   "metadata": {},
   "outputs": [
    {
     "name": "stdout",
     "output_type": "stream",
     "text": [
      "hcpcsevents\n",
      "d_items\n",
      "patients\n",
      "emar\n",
      "d_hcpcs\n",
      "pharmacy\n",
      "emar_detail\n"
     ]
    },
    {
     "name": "stderr",
     "output_type": "stream",
     "text": [
      "24/03/28 21:23:25 WARN SparkStringUtils: Truncated the string representation of a plan since it was too large. This behavior can be adjusted by setting 'spark.sql.debug.maxToStringFields'.\n"
     ]
    },
    {
     "name": "stdout",
     "output_type": "stream",
     "text": [
      "inputevents\n",
      "d_labitems\n",
      "chartevents\n",
      "icustays\n",
      "prescriptions\n",
      "diagnoses_icd\n",
      "transfers\n",
      "d_icd_diagnoses\n",
      "datetimeevents\n",
      "outputevents\n",
      "poe\n",
      "ingredientevents\n",
      "omr\n",
      "procedures_icd\n",
      "microbiologyevents\n",
      "poe_detail\n",
      "procedureevents\n",
      "labevents\n",
      "services\n",
      "d_icd_procedures\n",
      "admissions\n"
     ]
    }
   ],
   "source": [
    "results = bq.run_query(spark, \"SELECT * FROM `admissions` LIMIT 10\", use_local_data=True)"
   ]
  },
  {
   "cell_type": "code",
   "execution_count": 6,
   "id": "c2154ddc",
   "metadata": {},
   "outputs": [
    {
     "data": {
      "text/html": [
       "<div>\n",
       "<style scoped>\n",
       "    .dataframe tbody tr th:only-of-type {\n",
       "        vertical-align: middle;\n",
       "    }\n",
       "\n",
       "    .dataframe tbody tr th {\n",
       "        vertical-align: top;\n",
       "    }\n",
       "\n",
       "    .dataframe thead th {\n",
       "        text-align: right;\n",
       "    }\n",
       "</style>\n",
       "<table border=\"1\" class=\"dataframe\">\n",
       "  <thead>\n",
       "    <tr style=\"text-align: right;\">\n",
       "      <th></th>\n",
       "      <th>subject_id</th>\n",
       "      <th>hadm_id</th>\n",
       "      <th>admittime</th>\n",
       "      <th>dischtime</th>\n",
       "      <th>deathtime</th>\n",
       "      <th>admission_type</th>\n",
       "      <th>admit_provider_id</th>\n",
       "      <th>admission_location</th>\n",
       "      <th>discharge_location</th>\n",
       "      <th>insurance</th>\n",
       "      <th>language</th>\n",
       "      <th>marital_status</th>\n",
       "      <th>race</th>\n",
       "      <th>edregtime</th>\n",
       "      <th>edouttime</th>\n",
       "      <th>hospital_expire_flag</th>\n",
       "    </tr>\n",
       "  </thead>\n",
       "  <tbody>\n",
       "    <tr>\n",
       "      <th>0</th>\n",
       "      <td>12039279</td>\n",
       "      <td>22872837</td>\n",
       "      <td>2188-04-05 14:36:00</td>\n",
       "      <td>2188-04-07 12:24:00</td>\n",
       "      <td>NaT</td>\n",
       "      <td>URGENT</td>\n",
       "      <td>P138WD</td>\n",
       "      <td>PHYSICIAN REFERRAL</td>\n",
       "      <td>HOME</td>\n",
       "      <td>Other</td>\n",
       "      <td>ENGLISH</td>\n",
       "      <td>MARRIED</td>\n",
       "      <td>OTHER</td>\n",
       "      <td>NaT</td>\n",
       "      <td>NaT</td>\n",
       "      <td>0</td>\n",
       "    </tr>\n",
       "    <tr>\n",
       "      <th>1</th>\n",
       "      <td>11119137</td>\n",
       "      <td>23598731</td>\n",
       "      <td>2110-12-06 09:15:00</td>\n",
       "      <td>2110-12-10 17:30:00</td>\n",
       "      <td>NaT</td>\n",
       "      <td>SURGICAL SAME DAY ADMISSION</td>\n",
       "      <td>P147HV</td>\n",
       "      <td>PHYSICIAN REFERRAL</td>\n",
       "      <td>SKILLED NURSING FACILITY</td>\n",
       "      <td>Medicare</td>\n",
       "      <td>ENGLISH</td>\n",
       "      <td>SINGLE</td>\n",
       "      <td>WHITE</td>\n",
       "      <td>NaT</td>\n",
       "      <td>NaT</td>\n",
       "      <td>0</td>\n",
       "    </tr>\n",
       "    <tr>\n",
       "      <th>2</th>\n",
       "      <td>12568379</td>\n",
       "      <td>29461608</td>\n",
       "      <td>2200-12-21 15:20:00</td>\n",
       "      <td>2200-12-22 15:59:00</td>\n",
       "      <td>NaT</td>\n",
       "      <td>EW EMER.</td>\n",
       "      <td>P367GD</td>\n",
       "      <td>EMERGENCY ROOM</td>\n",
       "      <td>HOME</td>\n",
       "      <td>Medicare</td>\n",
       "      <td>ENGLISH</td>\n",
       "      <td>SINGLE</td>\n",
       "      <td>WHITE</td>\n",
       "      <td>2200-12-21 12:53:00</td>\n",
       "      <td>2200-12-21 16:52:00</td>\n",
       "      <td>0</td>\n",
       "    </tr>\n",
       "    <tr>\n",
       "      <th>3</th>\n",
       "      <td>12568379</td>\n",
       "      <td>22444607</td>\n",
       "      <td>2203-05-01 17:02:00</td>\n",
       "      <td>2203-05-02 11:40:00</td>\n",
       "      <td>NaT</td>\n",
       "      <td>AMBULATORY OBSERVATION</td>\n",
       "      <td>P25DU0</td>\n",
       "      <td>PACU</td>\n",
       "      <td>None</td>\n",
       "      <td>Medicare</td>\n",
       "      <td>ENGLISH</td>\n",
       "      <td>SINGLE</td>\n",
       "      <td>WHITE</td>\n",
       "      <td>NaT</td>\n",
       "      <td>NaT</td>\n",
       "      <td>0</td>\n",
       "    </tr>\n",
       "    <tr>\n",
       "      <th>4</th>\n",
       "      <td>12270967</td>\n",
       "      <td>23436743</td>\n",
       "      <td>2130-02-24 21:14:00</td>\n",
       "      <td>2130-02-28 15:50:00</td>\n",
       "      <td>NaT</td>\n",
       "      <td>EW EMER.</td>\n",
       "      <td>P93E1Z</td>\n",
       "      <td>PACU</td>\n",
       "      <td>HOME</td>\n",
       "      <td>Other</td>\n",
       "      <td>ENGLISH</td>\n",
       "      <td>MARRIED</td>\n",
       "      <td>WHITE</td>\n",
       "      <td>NaT</td>\n",
       "      <td>NaT</td>\n",
       "      <td>0</td>\n",
       "    </tr>\n",
       "    <tr>\n",
       "      <th>5</th>\n",
       "      <td>10222281</td>\n",
       "      <td>25236487</td>\n",
       "      <td>2117-08-19 03:18:00</td>\n",
       "      <td>2117-08-25 15:27:00</td>\n",
       "      <td>NaT</td>\n",
       "      <td>OBSERVATION ADMIT</td>\n",
       "      <td>P68URZ</td>\n",
       "      <td>TRANSFER FROM HOSPITAL</td>\n",
       "      <td>HOME HEALTH CARE</td>\n",
       "      <td>Other</td>\n",
       "      <td>ENGLISH</td>\n",
       "      <td>MARRIED</td>\n",
       "      <td>WHITE</td>\n",
       "      <td>2117-08-18 17:36:00</td>\n",
       "      <td>2117-08-19 04:17:00</td>\n",
       "      <td>0</td>\n",
       "    </tr>\n",
       "    <tr>\n",
       "      <th>6</th>\n",
       "      <td>10222281</td>\n",
       "      <td>22582267</td>\n",
       "      <td>2116-05-06 02:33:00</td>\n",
       "      <td>2116-05-12 15:16:00</td>\n",
       "      <td>NaT</td>\n",
       "      <td>SURGICAL SAME DAY ADMISSION</td>\n",
       "      <td>P345XU</td>\n",
       "      <td>PHYSICIAN REFERRAL</td>\n",
       "      <td>HOME HEALTH CARE</td>\n",
       "      <td>Other</td>\n",
       "      <td>ENGLISH</td>\n",
       "      <td>MARRIED</td>\n",
       "      <td>WHITE</td>\n",
       "      <td>NaT</td>\n",
       "      <td>NaT</td>\n",
       "      <td>0</td>\n",
       "    </tr>\n",
       "    <tr>\n",
       "      <th>7</th>\n",
       "      <td>11574058</td>\n",
       "      <td>22636689</td>\n",
       "      <td>2150-10-04 04:56:00</td>\n",
       "      <td>2150-10-04 10:56:00</td>\n",
       "      <td>NaT</td>\n",
       "      <td>EW EMER.</td>\n",
       "      <td>P85DBF</td>\n",
       "      <td>EMERGENCY ROOM</td>\n",
       "      <td>AGAINST ADVICE</td>\n",
       "      <td>Other</td>\n",
       "      <td>ENGLISH</td>\n",
       "      <td>MARRIED</td>\n",
       "      <td>WHITE</td>\n",
       "      <td>2150-10-04 00:51:00</td>\n",
       "      <td>2150-10-04 06:02:00</td>\n",
       "      <td>0</td>\n",
       "    </tr>\n",
       "    <tr>\n",
       "      <th>8</th>\n",
       "      <td>16589694</td>\n",
       "      <td>26285610</td>\n",
       "      <td>2152-12-04 16:04:00</td>\n",
       "      <td>2152-12-07 12:48:00</td>\n",
       "      <td>NaT</td>\n",
       "      <td>OBSERVATION ADMIT</td>\n",
       "      <td>P75S70</td>\n",
       "      <td>WALK-IN/SELF REFERRAL</td>\n",
       "      <td>REHAB</td>\n",
       "      <td>Medicare</td>\n",
       "      <td>ENGLISH</td>\n",
       "      <td>WIDOWED</td>\n",
       "      <td>WHITE</td>\n",
       "      <td>2152-12-04 08:59:00</td>\n",
       "      <td>2152-12-04 17:23:00</td>\n",
       "      <td>0</td>\n",
       "    </tr>\n",
       "    <tr>\n",
       "      <th>9</th>\n",
       "      <td>14718466</td>\n",
       "      <td>27697843</td>\n",
       "      <td>2163-11-20 21:46:00</td>\n",
       "      <td>2163-11-28 14:20:00</td>\n",
       "      <td>NaT</td>\n",
       "      <td>EW EMER.</td>\n",
       "      <td>P100U2</td>\n",
       "      <td>EMERGENCY ROOM</td>\n",
       "      <td>SKILLED NURSING FACILITY</td>\n",
       "      <td>Medicare</td>\n",
       "      <td>ENGLISH</td>\n",
       "      <td>WIDOWED</td>\n",
       "      <td>WHITE</td>\n",
       "      <td>2163-11-20 17:18:00</td>\n",
       "      <td>2163-11-20 23:00:00</td>\n",
       "      <td>0</td>\n",
       "    </tr>\n",
       "  </tbody>\n",
       "</table>\n",
       "</div>"
      ],
      "text/plain": [
       "   subject_id   hadm_id           admittime           dischtime deathtime  \\\n",
       "0    12039279  22872837 2188-04-05 14:36:00 2188-04-07 12:24:00       NaT   \n",
       "1    11119137  23598731 2110-12-06 09:15:00 2110-12-10 17:30:00       NaT   \n",
       "2    12568379  29461608 2200-12-21 15:20:00 2200-12-22 15:59:00       NaT   \n",
       "3    12568379  22444607 2203-05-01 17:02:00 2203-05-02 11:40:00       NaT   \n",
       "4    12270967  23436743 2130-02-24 21:14:00 2130-02-28 15:50:00       NaT   \n",
       "5    10222281  25236487 2117-08-19 03:18:00 2117-08-25 15:27:00       NaT   \n",
       "6    10222281  22582267 2116-05-06 02:33:00 2116-05-12 15:16:00       NaT   \n",
       "7    11574058  22636689 2150-10-04 04:56:00 2150-10-04 10:56:00       NaT   \n",
       "8    16589694  26285610 2152-12-04 16:04:00 2152-12-07 12:48:00       NaT   \n",
       "9    14718466  27697843 2163-11-20 21:46:00 2163-11-28 14:20:00       NaT   \n",
       "\n",
       "                admission_type admit_provider_id      admission_location  \\\n",
       "0                       URGENT            P138WD      PHYSICIAN REFERRAL   \n",
       "1  SURGICAL SAME DAY ADMISSION            P147HV      PHYSICIAN REFERRAL   \n",
       "2                     EW EMER.            P367GD          EMERGENCY ROOM   \n",
       "3       AMBULATORY OBSERVATION            P25DU0                    PACU   \n",
       "4                     EW EMER.            P93E1Z                    PACU   \n",
       "5            OBSERVATION ADMIT            P68URZ  TRANSFER FROM HOSPITAL   \n",
       "6  SURGICAL SAME DAY ADMISSION            P345XU      PHYSICIAN REFERRAL   \n",
       "7                     EW EMER.            P85DBF          EMERGENCY ROOM   \n",
       "8            OBSERVATION ADMIT            P75S70   WALK-IN/SELF REFERRAL   \n",
       "9                     EW EMER.            P100U2          EMERGENCY ROOM   \n",
       "\n",
       "         discharge_location insurance language marital_status   race  \\\n",
       "0                      HOME     Other  ENGLISH        MARRIED  OTHER   \n",
       "1  SKILLED NURSING FACILITY  Medicare  ENGLISH         SINGLE  WHITE   \n",
       "2                      HOME  Medicare  ENGLISH         SINGLE  WHITE   \n",
       "3                      None  Medicare  ENGLISH         SINGLE  WHITE   \n",
       "4                      HOME     Other  ENGLISH        MARRIED  WHITE   \n",
       "5          HOME HEALTH CARE     Other  ENGLISH        MARRIED  WHITE   \n",
       "6          HOME HEALTH CARE     Other  ENGLISH        MARRIED  WHITE   \n",
       "7            AGAINST ADVICE     Other  ENGLISH        MARRIED  WHITE   \n",
       "8                     REHAB  Medicare  ENGLISH        WIDOWED  WHITE   \n",
       "9  SKILLED NURSING FACILITY  Medicare  ENGLISH        WIDOWED  WHITE   \n",
       "\n",
       "            edregtime           edouttime  hospital_expire_flag  \n",
       "0                 NaT                 NaT                     0  \n",
       "1                 NaT                 NaT                     0  \n",
       "2 2200-12-21 12:53:00 2200-12-21 16:52:00                     0  \n",
       "3                 NaT                 NaT                     0  \n",
       "4                 NaT                 NaT                     0  \n",
       "5 2117-08-18 17:36:00 2117-08-19 04:17:00                     0  \n",
       "6                 NaT                 NaT                     0  \n",
       "7 2150-10-04 00:51:00 2150-10-04 06:02:00                     0  \n",
       "8 2152-12-04 08:59:00 2152-12-04 17:23:00                     0  \n",
       "9 2163-11-20 17:18:00 2163-11-20 23:00:00                     0  "
      ]
     },
     "execution_count": 6,
     "metadata": {},
     "output_type": "execute_result"
    }
   ],
   "source": [
    "results.toPandas()"
   ]
  }
 ],
 "metadata": {
  "kernelspec": {
   "display_name": "Python 3 (ipykernel)",
   "language": "python",
   "name": "python3"
  },
  "language_info": {
   "codemirror_mode": {
    "name": "ipython",
    "version": 3
   },
   "file_extension": ".py",
   "mimetype": "text/x-python",
   "name": "python",
   "nbconvert_exporter": "python",
   "pygments_lexer": "ipython3",
   "version": "3.12.2"
  }
 },
 "nbformat": 4,
 "nbformat_minor": 5
}
