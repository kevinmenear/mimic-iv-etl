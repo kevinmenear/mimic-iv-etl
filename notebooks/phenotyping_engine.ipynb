{
 "cells": [
  {
   "cell_type": "markdown",
   "id": "caf209c6-849b-4976-a052-79a5c203dd03",
   "metadata": {},
   "source": [
    "# Guide to Using PhenotypingEngine\n",
    "\n",
    "PhenotypingEngine is a Python class designed for phenotyping patients based on specific criteria in PySpark DataFrames. Here's how to use it:\n",
    "\n",
    "## Step 1: Initialize PhenotypingEngine\n",
    "\n",
    "First, create an instance of `PhenotypingEngine` by passing a PySpark DataFrame.\n",
    "\n",
    "```python\n",
    "from pyspark.sql import SparkSession\n",
    "from mimicfouretl.phenotyping_engine import PhenotypingEngine\n",
    "\n",
    "# Assuming you have a Spark DataFrame 'df'\n",
    "phenotyping_engine = PhenotypingEngine(df)\n",
    "```\n",
    "\n",
    "## Step 2: Add Phenotyping Rules\n",
    "Add rules for CASE and CONTROL groups. Each rule should include a label and SQL conditions.\n",
    "\n",
    "```python\n",
    "# Adding a CASE rule\n",
    "phenotyping_engine.add_rule('CASE', \"column_name > threshold\")\n",
    "\n",
    "# Adding a CONTROL rule\n",
    "phenotyping_engine.add_rule('CONTROL', \"another_column < different_threshold\")\n",
    "```\n",
    "\n",
    "## Step 3: Execute Phenotyping\n",
    "Run the phenotyping process to classify the data into CASE, CONTROL, or OTHER.\n",
    "\n",
    "```python\n",
    "phenotyping_engine.execute_phenotyping()\n",
    "```\n",
    "\n",
    "## Step 4: Retrieve Results\n",
    "Get the modified DataFrame with the phenotyping results.\n",
    "\n",
    "```python\n",
    "result_df = phenotyping_engine.get_results()\n",
    "```"
   ]
  },
  {
   "cell_type": "code",
   "execution_count": null,
   "id": "871ceb65-e6cc-4703-96e4-7b39045959b6",
   "metadata": {},
   "outputs": [],
   "source": []
  }
 ],
 "metadata": {
  "kernelspec": {
   "display_name": "Python 3 (ipykernel)",
   "language": "python",
   "name": "python3"
  },
  "language_info": {
   "codemirror_mode": {
    "name": "ipython",
    "version": 3
   },
   "file_extension": ".py",
   "mimetype": "text/x-python",
   "name": "python",
   "nbconvert_exporter": "python",
   "pygments_lexer": "ipython3",
   "version": "3.12.2"
  }
 },
 "nbformat": 4,
 "nbformat_minor": 5
}
