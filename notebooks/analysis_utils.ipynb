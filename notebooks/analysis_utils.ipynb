{
 "cells": [
  {
   "cell_type": "code",
   "execution_count": 1,
   "metadata": {},
   "outputs": [],
   "source": [
    "import mimicfouretl.bigquery_utils as bq\n",
    "import mimicfouretl.analysis_utils as au"
   ]
  },
  {
   "cell_type": "code",
   "execution_count": 2,
   "metadata": {},
   "outputs": [
    {
     "name": "stderr",
     "output_type": "stream",
     "text": [
      "24/03/28 21:28:36 WARN Utils: Your hostname, Dunyas-Laptop.local resolves to a loopback address: 127.0.0.1; using 10.0.0.117 instead (on interface en0)\n",
      "24/03/28 21:28:36 WARN Utils: Set SPARK_LOCAL_IP if you need to bind to another address\n",
      "Setting default log level to \"WARN\".\n",
      "To adjust logging level use sc.setLogLevel(newLevel). For SparkR, use setLogLevel(newLevel).\n",
      "24/03/28 21:28:36 WARN NativeCodeLoader: Unable to load native-hadoop library for your platform... using builtin-java classes where applicable\n",
      "24/03/28 21:28:36 WARN Utils: Service 'SparkUI' could not bind on port 4040. Attempting port 4041.\n"
     ]
    }
   ],
   "source": [
    "spark = bq.get_spark_session(use_local_data=True)"
   ]
  },
  {
   "cell_type": "code",
   "execution_count": 3,
   "metadata": {},
   "outputs": [
    {
     "name": "stdout",
     "output_type": "stream",
     "text": [
      "GENERATED QUERY:\n",
      " SELECT itemid, COUNT(*) as count FROM `mimiciv_hosp.labevents` WHERE itemid = '50868' GROUP BY itemid LIMIT 10\n"
     ]
    },
    {
     "name": "stderr",
     "output_type": "stream",
     "text": [
      "24/03/28 21:28:42 WARN SparkStringUtils: Truncated the string representation of a plan since it was too large. This behavior can be adjusted by setting 'spark.sql.debug.maxToStringFields'.\n"
     ]
    },
    {
     "name": "stdout",
     "output_type": "stream",
     "text": [
      "SELECT itemid, COUNT(*) as count FROM `labevents` WHERE itemid = '50868' GROUP BY itemid LIMIT 10\n"
     ]
    },
    {
     "data": {
      "text/html": [
       "<div>\n",
       "<style scoped>\n",
       "    .dataframe tbody tr th:only-of-type {\n",
       "        vertical-align: middle;\n",
       "    }\n",
       "\n",
       "    .dataframe tbody tr th {\n",
       "        vertical-align: top;\n",
       "    }\n",
       "\n",
       "    .dataframe thead th {\n",
       "        text-align: right;\n",
       "    }\n",
       "</style>\n",
       "<table border=\"1\" class=\"dataframe\">\n",
       "  <thead>\n",
       "    <tr style=\"text-align: right;\">\n",
       "      <th></th>\n",
       "      <th>itemid</th>\n",
       "      <th>count</th>\n",
       "    </tr>\n",
       "  </thead>\n",
       "  <tbody>\n",
       "    <tr>\n",
       "      <th>0</th>\n",
       "      <td>50868</td>\n",
       "      <td>70</td>\n",
       "    </tr>\n",
       "  </tbody>\n",
       "</table>\n",
       "</div>"
      ],
      "text/plain": [
       "   itemid  count\n",
       "0   50868     70"
      ]
     },
     "execution_count": 3,
     "metadata": {},
     "output_type": "execute_result"
    }
   ],
   "source": [
    "result = au.get_item_frequency(spark, 'itemid', 'mimiciv_hosp.labevents', item_id='50868', limit=10, use_local_data=True)\n",
    "result.toPandas()"
   ]
  },
  {
   "cell_type": "code",
   "execution_count": 4,
   "metadata": {},
   "outputs": [
    {
     "name": "stdout",
     "output_type": "stream",
     "text": [
      "GENERATED QUERY:\n",
      " \n",
      "    SELECT A.subject_id, A.hadm_id, A.itemid AS item_value, B.itemid AS outcome_value\n",
      "    FROM `mimiciv_hosp.labevents` A\n",
      "    JOIN `mimiciv_icu.inputevents` B ON A.subject_id = B.subject_id AND A.hadm_id = B.hadm_id\n",
      "    WHERE A.itemid = '50868'\n",
      "    \n",
      "\n",
      "    SELECT A.subject_id, A.hadm_id, A.itemid AS item_value, B.itemid AS outcome_value\n",
      "    FROM `labevents` A\n",
      "    JOIN `inputevents` B ON A.subject_id = B.subject_id AND A.hadm_id = B.hadm_id\n",
      "    WHERE A.itemid = '50868'\n",
      "    \n"
     ]
    },
    {
     "data": {
      "text/html": [
       "<div>\n",
       "<style scoped>\n",
       "    .dataframe tbody tr th:only-of-type {\n",
       "        vertical-align: middle;\n",
       "    }\n",
       "\n",
       "    .dataframe tbody tr th {\n",
       "        vertical-align: top;\n",
       "    }\n",
       "\n",
       "    .dataframe thead th {\n",
       "        text-align: right;\n",
       "    }\n",
       "</style>\n",
       "<table border=\"1\" class=\"dataframe\">\n",
       "  <thead>\n",
       "    <tr style=\"text-align: right;\">\n",
       "      <th></th>\n",
       "      <th>subject_id</th>\n",
       "      <th>hadm_id</th>\n",
       "      <th>item_value</th>\n",
       "      <th>outcome_value</th>\n",
       "    </tr>\n",
       "  </thead>\n",
       "  <tbody>\n",
       "    <tr>\n",
       "      <th>0</th>\n",
       "      <td>16913836</td>\n",
       "      <td>25000857.0</td>\n",
       "      <td>50868</td>\n",
       "      <td>226364</td>\n",
       "    </tr>\n",
       "    <tr>\n",
       "      <th>1</th>\n",
       "      <td>16913836</td>\n",
       "      <td>25000857.0</td>\n",
       "      <td>50868</td>\n",
       "      <td>228341</td>\n",
       "    </tr>\n",
       "    <tr>\n",
       "      <th>2</th>\n",
       "      <td>16913836</td>\n",
       "      <td>25000857.0</td>\n",
       "      <td>50868</td>\n",
       "      <td>227523</td>\n",
       "    </tr>\n",
       "    <tr>\n",
       "      <th>3</th>\n",
       "      <td>16913836</td>\n",
       "      <td>25000857.0</td>\n",
       "      <td>50868</td>\n",
       "      <td>227522</td>\n",
       "    </tr>\n",
       "    <tr>\n",
       "      <th>4</th>\n",
       "      <td>16913836</td>\n",
       "      <td>25000857.0</td>\n",
       "      <td>50868</td>\n",
       "      <td>227522</td>\n",
       "    </tr>\n",
       "    <tr>\n",
       "      <th>...</th>\n",
       "      <td>...</td>\n",
       "      <td>...</td>\n",
       "      <td>...</td>\n",
       "      <td>...</td>\n",
       "    </tr>\n",
       "    <tr>\n",
       "      <th>5040</th>\n",
       "      <td>16913836</td>\n",
       "      <td>25000857.0</td>\n",
       "      <td>50868</td>\n",
       "      <td>225943</td>\n",
       "    </tr>\n",
       "    <tr>\n",
       "      <th>5041</th>\n",
       "      <td>16913836</td>\n",
       "      <td>25000857.0</td>\n",
       "      <td>50868</td>\n",
       "      <td>225943</td>\n",
       "    </tr>\n",
       "    <tr>\n",
       "      <th>5042</th>\n",
       "      <td>16913836</td>\n",
       "      <td>25000857.0</td>\n",
       "      <td>50868</td>\n",
       "      <td>225942</td>\n",
       "    </tr>\n",
       "    <tr>\n",
       "      <th>5043</th>\n",
       "      <td>16913836</td>\n",
       "      <td>25000857.0</td>\n",
       "      <td>50868</td>\n",
       "      <td>225154</td>\n",
       "    </tr>\n",
       "    <tr>\n",
       "      <th>5044</th>\n",
       "      <td>16913836</td>\n",
       "      <td>25000857.0</td>\n",
       "      <td>50868</td>\n",
       "      <td>220949</td>\n",
       "    </tr>\n",
       "  </tbody>\n",
       "</table>\n",
       "<p>5045 rows × 4 columns</p>\n",
       "</div>"
      ],
      "text/plain": [
       "      subject_id     hadm_id  item_value  outcome_value\n",
       "0       16913836  25000857.0       50868         226364\n",
       "1       16913836  25000857.0       50868         228341\n",
       "2       16913836  25000857.0       50868         227523\n",
       "3       16913836  25000857.0       50868         227522\n",
       "4       16913836  25000857.0       50868         227522\n",
       "...          ...         ...         ...            ...\n",
       "5040    16913836  25000857.0       50868         225943\n",
       "5041    16913836  25000857.0       50868         225943\n",
       "5042    16913836  25000857.0       50868         225942\n",
       "5043    16913836  25000857.0       50868         225154\n",
       "5044    16913836  25000857.0       50868         220949\n",
       "\n",
       "[5045 rows x 4 columns]"
      ]
     },
     "execution_count": 4,
     "metadata": {},
     "output_type": "execute_result"
    }
   ],
   "source": [
    "result = au.get_outcomes_by_item(spark, '50868', 'itemid', 'mimiciv_hosp.labevents', 'itemid', 'mimiciv_icu.inputevents', use_local_data=True)\n",
    "result.toPandas()"
   ]
  }
 ],
 "metadata": {
  "kernelspec": {
   "display_name": "mimic-iv-etl",
   "language": "python",
   "name": "python3"
  },
  "language_info": {
   "codemirror_mode": {
    "name": "ipython",
    "version": 3
   },
   "file_extension": ".py",
   "mimetype": "text/x-python",
   "name": "python",
   "nbconvert_exporter": "python",
   "pygments_lexer": "ipython3",
   "version": "3.12.2"
  }
 },
 "nbformat": 4,
 "nbformat_minor": 2
}
