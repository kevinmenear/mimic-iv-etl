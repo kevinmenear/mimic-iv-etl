{
 "cells": [
  {
   "cell_type": "code",
   "execution_count": 1,
   "id": "98187a55-2adb-4a6b-9a83-d4562a442873",
   "metadata": {},
   "outputs": [],
   "source": [
    "from mimicfouretl.data_insights import display_datasets\n",
    "from mimicfouretl.feature_engineering import *\n",
    "import mimicfouretl.bigquery_utils as bq"
   ]
  },
  {
   "cell_type": "code",
   "execution_count": 2,
   "id": "6f4a6ca1-44ef-4126-a736-a1f03078ed65",
   "metadata": {},
   "outputs": [
    {
     "data": {
      "application/vnd.jupyter.widget-view+json": {
       "model_id": "b74e85fa3c9d4573894816da1c28533b",
       "version_major": 2,
       "version_minor": 0
      },
      "text/plain": [
       "Dropdown(description='Dataset:', options=('hosp/provider', 'hosp/services', 'hosp/d_icd_procedures', 'hosp/pre…"
      ]
     },
     "metadata": {},
     "output_type": "display_data"
    },
    {
     "data": {
      "application/vnd.jupyter.widget-view+json": {
       "model_id": "416dee7fb6bd41cebee0ef8dbb2ddb80",
       "version_major": 2,
       "version_minor": 0
      },
      "text/plain": [
       "Output()"
      ]
     },
     "metadata": {},
     "output_type": "display_data"
    }
   ],
   "source": [
    "display_datasets()"
   ]
  },
  {
   "cell_type": "code",
   "execution_count": null,
   "id": "e7ecb979",
   "metadata": {},
   "outputs": [],
   "source": [
    "bq.set_credentials_file('../bq_credentials/client_secret.json')\n",
    "bq.set_project_id('micro-vine-412020')\n",
    "client = bq.get_client(use_service_account_auth=True)\n",
    "spark = bq.get_spark_session(client, use_service_account_auth=True)"
   ]
  },
  {
   "cell_type": "code",
   "execution_count": null,
   "id": "d44a9080-a0e6-40de-bdaf-56a97068e39c",
   "metadata": {},
   "outputs": [],
   "source": [
    "results = get_item_frequency(spark, column_name='caregiver_id', dataset='mimic_iv.icu_outputevents')\n",
    "bq.display_sampled_df(results)"
   ]
  },
  {
   "cell_type": "code",
   "execution_count": null,
   "id": "83ccc973-4bb5-4e46-86f0-52cf0e5484ac",
   "metadata": {},
   "outputs": [],
   "source": [
    "results = get_temporal_trends(spark=spark, \n",
    "                              item_id='226559', \n",
    "                              column_name='itemid', \n",
    "                              date_column='charttime', \n",
    "                              dataset='mimic_iv.icu_outputevents',\n",
    "                              limit=10)\n",
    "bq.display_sampled_df(results)"
   ]
  },
  {
   "cell_type": "code",
   "execution_count": null,
   "id": "00ff1770",
   "metadata": {},
   "outputs": [],
   "source": [
    "results = get_outcomes_by_item(spark=spark, \n",
    "                              item_id='227074', \n",
    "                              item_column='itemid',\n",
    "                              item_dataset='mimic_iv.icu_inputevents',\n",
    "                              outcome_column='value',\n",
    "                              outcome_dataset='mimic_iv.icu_outputevents')\n",
    "bq.display_sampled_df(results)"
   ]
  },
  {
   "cell_type": "code",
   "execution_count": null,
   "id": "1e55873b",
   "metadata": {},
   "outputs": [],
   "source": [
    "results = get_abnormal_item_analysis(spark=spark, \n",
    "                              item_id=51200, \n",
    "                              item_column='itemid',\n",
    "                              value_column='value',\n",
    "                              bounds={'lower': '0.5'},\n",
    "                              dataset='mimic_iv.hosp_labevents')\n",
    "bq.display_sampled_df(results)"
   ]
  },
  {
   "cell_type": "code",
   "execution_count": null,
   "id": "11412468",
   "metadata": {},
   "outputs": [],
   "source": [
    "results = get_provider_activity_analysis(spark=spark, \n",
    "                                         provider_id='P60CC5', \n",
    "                                         dataset_columns={'mimic_iv.hosp_microbiologyevents':\n",
    "                                                                {'provider': 'order_provider_id', \n",
    "                                                                 'activity':'spec_type_desc'}})\n",
    "bq.display_sampled_df(results)"
   ]
  },
  {
   "cell_type": "code",
   "execution_count": null,
   "id": "b967b52a",
   "metadata": {},
   "outputs": [],
   "source": [
    "results = get_co_occurrence_analysis(spark=spark, \n",
    "                                     dataset='mimic_iv.hosp_labevents',\n",
    "                                     primary_column='priority',\n",
    "                                     secondary_column='comments')\n",
    "bq.display_sampled_df(results)"
   ]
  },
  {
   "cell_type": "code",
   "execution_count": null,
   "id": "734577ef",
   "metadata": {},
   "outputs": [],
   "source": [
    "results = calculate_event_to_death_interval(spark=spark, \n",
    "                                     event_date_column='charttime',\n",
    "                                     event_dataset='mimic_iv.hosp_labevents')\n",
    "bq.display_sampled_df(results)"
   ]
  }
 ],
 "metadata": {
  "kernelspec": {
   "display_name": "Python 3 (ipykernel)",
   "language": "python",
   "name": "python3"
  },
  "language_info": {
   "codemirror_mode": {
    "name": "ipython",
    "version": 3
   },
   "file_extension": ".py",
   "mimetype": "text/x-python",
   "name": "python",
   "nbconvert_exporter": "python",
   "pygments_lexer": "ipython3",
   "version": "3.12.2"
  }
 },
 "nbformat": 4,
 "nbformat_minor": 5
}
