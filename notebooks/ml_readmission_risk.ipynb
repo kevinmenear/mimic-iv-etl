{
 "cells": [
  {
   "cell_type": "markdown",
   "id": "02f51b7c-85d4-4aed-b2d4-211a5604324b",
   "metadata": {},
   "source": [
    "# Readmission Risk for Heart Failure Patients"
   ]
  },
  {
   "cell_type": "code",
   "execution_count": 1,
   "id": "01c12293-30b1-47ba-afe4-84c12cb46652",
   "metadata": {},
   "outputs": [],
   "source": [
    "import mimicfouretl.bigquery_utils as bq\n",
    "from mimicfouretl.data_insights import display_datasets\n",
    "from mimicfouretl.query_builder import QueryBuilder"
   ]
  },
  {
   "cell_type": "markdown",
   "id": "bc14cf8d-7841-4cd4-bd4a-5ac6e576333b",
   "metadata": {},
   "source": [
    "## Build BigQuery Spark session"
   ]
  },
  {
   "cell_type": "code",
   "execution_count": 2,
   "id": "b087c37c-b4fb-419f-92e6-69cc9eb09667",
   "metadata": {},
   "outputs": [],
   "source": [
    "bq.set_credentials_file('../bq_credentials/client_secret.json')\n",
    "bq.set_project_id('mimic-iv-418015')\n",
    "# bq.set_project_id('micro-vine-412020')"
   ]
  },
  {
   "cell_type": "code",
   "execution_count": 3,
   "id": "4c54b921-5007-4a61-a353-10e57189db27",
   "metadata": {},
   "outputs": [
    {
     "name": "stdout",
     "output_type": "stream",
     "text": [
      "Please visit this URL to authorize this application: https://accounts.google.com/o/oauth2/auth?response_type=code&client_id=236933606679-n0530hpv6li2upvr6ibubbd7f3hik03j.apps.googleusercontent.com&redirect_uri=http%3A%2F%2Flocalhost%3A60095%2F&scope=https%3A%2F%2Fwww.googleapis.com%2Fauth%2Fbigquery&state=E2LLv2hzz7Ls7KaMClE3Tezg7Btd9q&access_type=offline\n"
     ]
    }
   ],
   "source": [
    "client = bq.get_client(use_service_account_auth=False)"
   ]
  },
  {
   "cell_type": "code",
   "execution_count": 4,
   "id": "0a5dff49-c560-4872-9e3a-be6c28d786c1",
   "metadata": {},
   "outputs": [
    {
     "data": {
      "text/plain": [
       "['physionet-data.mimiciv_hosp.admissions',\n",
       " 'physionet-data.mimiciv_hosp.d_hcpcs',\n",
       " 'physionet-data.mimiciv_hosp.d_icd_diagnoses',\n",
       " 'physionet-data.mimiciv_hosp.d_icd_procedures',\n",
       " 'physionet-data.mimiciv_hosp.d_labitems',\n",
       " 'physionet-data.mimiciv_hosp.diagnoses_icd',\n",
       " 'physionet-data.mimiciv_hosp.drgcodes',\n",
       " 'physionet-data.mimiciv_hosp.emar',\n",
       " 'physionet-data.mimiciv_hosp.emar_detail',\n",
       " 'physionet-data.mimiciv_hosp.hcpcsevents',\n",
       " 'physionet-data.mimiciv_hosp.labevents',\n",
       " 'physionet-data.mimiciv_hosp.microbiologyevents',\n",
       " 'physionet-data.mimiciv_hosp.omr',\n",
       " 'physionet-data.mimiciv_hosp.patients',\n",
       " 'physionet-data.mimiciv_hosp.pharmacy',\n",
       " 'physionet-data.mimiciv_hosp.poe',\n",
       " 'physionet-data.mimiciv_hosp.poe_detail',\n",
       " 'physionet-data.mimiciv_hosp.prescriptions',\n",
       " 'physionet-data.mimiciv_hosp.procedures_icd',\n",
       " 'physionet-data.mimiciv_hosp.provider',\n",
       " 'physionet-data.mimiciv_hosp.services',\n",
       " 'physionet-data.mimiciv_hosp.transfers']"
      ]
     },
     "execution_count": 4,
     "metadata": {},
     "output_type": "execute_result"
    }
   ],
   "source": [
    "# tables = bq.list_tables('mimiciv_icu', client)\n",
    "tables = bq.list_tables('physionet-data.mimiciv_hosp', client)\n",
    "tables"
   ]
  },
  {
   "cell_type": "code",
   "execution_count": 5,
   "id": "bfa5f3ec-35b4-4fd7-849c-f5bb84ec5a26",
   "metadata": {},
   "outputs": [
    {
     "data": {
      "application/vnd.jupyter.widget-view+json": {
       "model_id": "d0ec64d2174d44fb8602aaf9c8e60cfb",
       "version_major": 2,
       "version_minor": 0
      },
      "text/plain": [
       "Dropdown(description='Dataset:', options=('hosp.provider', 'hosp.services', 'hosp.d_icd_procedures', 'hosp.pre…"
      ]
     },
     "metadata": {},
     "output_type": "display_data"
    },
    {
     "data": {
      "application/vnd.jupyter.widget-view+json": {
       "model_id": "6b11f75b804845299635a4eb0292ff53",
       "version_major": 2,
       "version_minor": 0
      },
      "text/plain": [
       "Output()"
      ]
     },
     "metadata": {},
     "output_type": "display_data"
    }
   ],
   "source": [
    "display_datasets()"
   ]
  },
  {
   "cell_type": "code",
   "execution_count": 6,
   "id": "67004ce3-a8f0-4dae-8f20-6cd1326671e1",
   "metadata": {},
   "outputs": [
    {
     "name": "stderr",
     "output_type": "stream",
     "text": [
      "24/03/29 15:16:24 WARN Utils: Your hostname, KGMSurface resolves to a loopback address: 127.0.1.1; using 10.0.0.136 instead (on interface wlp0s20f3)\n",
      "24/03/29 15:16:24 WARN Utils: Set SPARK_LOCAL_IP if you need to bind to another address\n"
     ]
    },
    {
     "name": "stdout",
     "output_type": "stream",
     "text": [
      ":: loading settings :: url = jar:file:/home/kevin/anaconda3/envs/mimic-iv-etl/lib/python3.12/site-packages/pyspark/jars/ivy-2.5.1.jar!/org/apache/ivy/core/settings/ivysettings.xml\n"
     ]
    },
    {
     "name": "stderr",
     "output_type": "stream",
     "text": [
      "Ivy Default Cache set to: /home/kevin/.ivy2/cache\n",
      "The jars for the packages stored in: /home/kevin/.ivy2/jars\n",
      "com.google.cloud.spark#spark-bigquery-with-dependencies_2.12 added as a dependency\n",
      ":: resolving dependencies :: org.apache.spark#spark-submit-parent-95fa33c4-94da-481d-809f-cbbd718fd26e;1.0\n",
      "\tconfs: [default]\n",
      "\tfound com.google.cloud.spark#spark-bigquery-with-dependencies_2.12;0.37.0 in central\n",
      "\t[0.37.0] com.google.cloud.spark#spark-bigquery-with-dependencies_2.12;latest.version\n",
      ":: resolution report :: resolve 1856ms :: artifacts dl 2ms\n",
      "\t:: modules in use:\n",
      "\tcom.google.cloud.spark#spark-bigquery-with-dependencies_2.12;0.37.0 from central in [default]\n",
      "\t---------------------------------------------------------------------\n",
      "\t|                  |            modules            ||   artifacts   |\n",
      "\t|       conf       | number| search|dwnlded|evicted|| number|dwnlded|\n",
      "\t---------------------------------------------------------------------\n",
      "\t|      default     |   1   |   1   |   0   |   0   ||   1   |   0   |\n",
      "\t---------------------------------------------------------------------\n",
      ":: retrieving :: org.apache.spark#spark-submit-parent-95fa33c4-94da-481d-809f-cbbd718fd26e\n",
      "\tconfs: [default]\n",
      "\t0 artifacts copied, 1 already retrieved (0kB/3ms)\n",
      "24/03/29 15:16:26 WARN NativeCodeLoader: Unable to load native-hadoop library for your platform... using builtin-java classes where applicable\n",
      "Setting default log level to \"WARN\".\n",
      "To adjust logging level use sc.setLogLevel(newLevel). For SparkR, use setLogLevel(newLevel).\n"
     ]
    }
   ],
   "source": [
    "spark = bq.get_spark_session()"
   ]
  },
  {
   "cell_type": "markdown",
   "id": "34e68ab9-cd63-461e-bc76-963fdeb5ee97",
   "metadata": {},
   "source": [
    "## Get relevant ICD codes and Lab Item IDs"
   ]
  },
  {
   "cell_type": "markdown",
   "id": "4195ca8b-3b4f-495e-86f7-0009b4794d49",
   "metadata": {},
   "source": [
    "### Get ICD codes for heart failure diagnoses"
   ]
  },
  {
   "cell_type": "code",
   "execution_count": 7,
   "id": "349f5c09-579e-4ba6-8dff-d88dcb5b5ea3",
   "metadata": {},
   "outputs": [
    {
     "name": "stdout",
     "output_type": "stream",
     "text": [
      "SELECT icd_code, long_title, icd_version\n",
      "FROM `physionet-data.mimiciv_hosp.d_icd_diagnoses`\n",
      "WHERE LOWER(long_title) LIKE '%heart failure%'\n"
     ]
    }
   ],
   "source": [
    "qb_heart_failure_codes = QueryBuilder(dataset='hosp.d_icd_diagnoses', \n",
    "                                      columns=['icd_code', 'icd_version', 'long_title'])\n",
    "qb_heart_failure_codes.apply_filters(\"LOWER(long_title) LIKE '%heart failure%'\")\n",
    "heart_failure_codes_query = qb_heart_failure_codes.generate_query()\n",
    "print(heart_failure_codes_query)"
   ]
  },
  {
   "cell_type": "code",
   "execution_count": 8,
   "id": "4a588775-d091-477b-ae8f-02587a57886d",
   "metadata": {},
   "outputs": [],
   "source": [
    "heart_failure_icd_items = bq.run_query(spark, heart_failure_codes_query)"
   ]
  },
  {
   "cell_type": "code",
   "execution_count": 9,
   "id": "14c19ef6-396f-469b-8977-4f5f79d5dc25",
   "metadata": {},
   "outputs": [
    {
     "name": "stderr",
     "output_type": "stream",
     "text": [
      "                                                                                \r"
     ]
    },
    {
     "name": "stdout",
     "output_type": "stream",
     "text": [
      "+--------+--------------------+-----------+\n",
      "|icd_code|          long_title|icd_version|\n",
      "+--------+--------------------+-----------+\n",
      "|   40290|Unspecified hyper...|          9|\n",
      "|   40412|Hypertensive hear...|          9|\n",
      "|   40200|Malignant hyperte...|          9|\n",
      "|   42842|Chronic combined ...|          9|\n",
      "|   42821|Acute systolic he...|          9|\n",
      "|   42843|Acute on chronic ...|          9|\n",
      "|   42830|Diastolic heart f...|          9|\n",
      "|   42841|Acute combined sy...|          9|\n",
      "|   40400|Hypertensive hear...|          9|\n",
      "|   39891|Rheumatic heart f...|          9|\n",
      "|   40492|Hypertensive hear...|          9|\n",
      "|   40210|Benign hypertensi...|          9|\n",
      "|   42833|Acute on chronic ...|          9|\n",
      "|   40401|Hypertensive hear...|          9|\n",
      "|   42820|Systolic heart fa...|          9|\n",
      "|   40490|Hypertensive hear...|          9|\n",
      "|   42832|Chronic diastolic...|          9|\n",
      "|   40211|Benign hypertensi...|          9|\n",
      "|   40413|Hypertensive hear...|          9|\n",
      "|   40411|Hypertensive hear...|          9|\n",
      "+--------+--------------------+-----------+\n",
      "only showing top 20 rows\n",
      "\n"
     ]
    }
   ],
   "source": [
    "heart_failure_icd_items.show()"
   ]
  },
  {
   "cell_type": "code",
   "execution_count": 10,
   "id": "c1c8adf4-790e-49d9-936a-4d57fab6937d",
   "metadata": {},
   "outputs": [],
   "source": [
    "heart_failure_icd_codes_list = [row['icd_code'] for row in heart_failure_icd_items.select('icd_code').distinct().collect()]"
   ]
  },
  {
   "cell_type": "code",
   "execution_count": 11,
   "id": "60e90bf0-98ce-4baf-b8b4-a0985eb60c5f",
   "metadata": {},
   "outputs": [],
   "source": [
    "heart_failure_icd_codes_str = \"'\" + \"', '\".join(heart_failure_icd_codes_list) + \"'\""
   ]
  },
  {
   "cell_type": "markdown",
   "id": "fa02ae48-b85b-49eb-a5a1-23b161843dd0",
   "metadata": {},
   "source": [
    "### Get itemids for BNP labs"
   ]
  },
  {
   "cell_type": "code",
   "execution_count": 12,
   "id": "d60160ed-580b-45b9-a45c-2da4caa6f97b",
   "metadata": {},
   "outputs": [
    {
     "name": "stdout",
     "output_type": "stream",
     "text": [
      "SELECT fluid, category, itemid, label\n",
      "FROM `physionet-data.mimiciv_hosp.d_labitems`\n",
      "WHERE LOWER(label) LIKE '%bnp%'\n"
     ]
    }
   ],
   "source": [
    "qb_bnp_labs = QueryBuilder(dataset='hosp.d_labitems', \n",
    "                                      columns=['itemid', 'label', 'fluid', 'category'])\n",
    "qb_bnp_labs.apply_filters(\"LOWER(label) LIKE '%bnp%'\")\n",
    "bnp_labs_query = qb_bnp_labs.generate_query()\n",
    "print(bnp_labs_query)"
   ]
  },
  {
   "cell_type": "code",
   "execution_count": 13,
   "id": "335bdccd-11ff-47a1-b907-df922c613404",
   "metadata": {},
   "outputs": [],
   "source": [
    "bnp_lab_items = bq.run_query(spark, bnp_labs_query)"
   ]
  },
  {
   "cell_type": "code",
   "execution_count": 14,
   "id": "59e840fa-01a4-440f-ae27-4637eb0fbf06",
   "metadata": {},
   "outputs": [
    {
     "name": "stdout",
     "output_type": "stream",
     "text": [
      "+-------+---------+------+---------------+\n",
      "|  fluid| category|itemid|          label|\n",
      "+-------+---------+------+---------------+\n",
      "|Pleural|Chemistry| 51921|proBNP, Pleural|\n",
      "|  Blood|Chemistry| 50963|       NTproBNP|\n",
      "+-------+---------+------+---------------+\n",
      "\n"
     ]
    }
   ],
   "source": [
    "bnp_lab_items.show()"
   ]
  },
  {
   "cell_type": "code",
   "execution_count": 15,
   "id": "d670991f-8f43-4eb1-8e88-27b08cd01d76",
   "metadata": {},
   "outputs": [],
   "source": [
    "bnp_lab_itemids_list = [row['itemid'] for row in bnp_lab_items.select('itemid').distinct().collect()]"
   ]
  },
  {
   "cell_type": "code",
   "execution_count": 16,
   "id": "dd0c3980-977c-4909-bb4f-4358a68e4f02",
   "metadata": {},
   "outputs": [],
   "source": [
    "bnp_lab_itemids_str = ', '.join(str(itemid) for itemid in bnp_lab_itemids_list)"
   ]
  },
  {
   "cell_type": "markdown",
   "id": "c73d3c8c-3cc8-4866-8b39-14b6f6d01b71",
   "metadata": {},
   "source": [
    "## Query MIMIC IV database for Heart Failure diagnoses and BNP labs"
   ]
  },
  {
   "cell_type": "code",
   "execution_count": 17,
   "id": "1da90e06-026e-430b-bbb9-7e6794bd350a",
   "metadata": {},
   "outputs": [
    {
     "name": "stdout",
     "output_type": "stream",
     "text": [
      "SELECT icd_version, `physionet-data.mimiciv_hosp.diagnoses_icd`.hadm_id, ref_range_upper, ref_range_lower, `physionet-data.mimiciv_hosp.diagnoses_icd`.subject_id, valuenum, seq_num, icd_code, itemid\n",
      "FROM `physionet-data.mimiciv_hosp.diagnoses_icd`\n",
      "INNER JOIN `physionet-data.mimiciv_hosp.labevents` ON `physionet-data.mimiciv_hosp.diagnoses_icd`.subject_id = `physionet-data.mimiciv_hosp.labevents`.subject_id AND `physionet-data.mimiciv_hosp.diagnoses_icd`.hadm_id = `physionet-data.mimiciv_hosp.labevents`.hadm_id\n",
      "WHERE icd_code IN ('I119', 'I5021', 'I5033', 'I509', 'I50814', '42842', '40413', '42830', 'I130', '40403', 'I50', 'I9713', '4289', '40412', 'I5032', '4280', '40291', 'I5042', 'I50811', '42833', 'I50812', 'I1311', 'I5041', 'I5043', '40211', '40411', 'I503', '40492', 'I5083', 'I110', '42821', '40401', '40410', 'I131', 'I5089', '42840', '40493', 'I0981', 'I5022', '40402', 'I97130', 'I50810', 'I97131', 'I508', 'I5081', 'I5084', '40400', 'I5020', '42832', 'I5040', 'I5023', '42841', '40491', '40200', '42843', '42822', '40490', '39891', 'I504', 'I502', '40210', '40290', 'I5031', 'I5030', '4281', 'I50813', '42823', '42831', '42820', 'I1310', '40201', 'I132', 'I5082') AND itemid IN (50963, 51921)\n",
      "LIMIT 100\n"
     ]
    }
   ],
   "source": [
    "# Initialize QueryBuilders\n",
    "qb_diagnoses = QueryBuilder(dataset='hosp.diagnoses_icd', \n",
    "                            columns=['subject_id', 'hadm_id', 'seq_num', 'icd_code', 'icd_version'])\n",
    "qb_diagnoses.apply_filters(f'icd_code IN ({heart_failure_icd_codes_str})')\n",
    "\n",
    "qb_labevents = QueryBuilder(dataset='hosp.labevents', \n",
    "                            columns=['subject_id', 'hadm_id', 'itemid', 'valuenum', 'ref_range_lower', 'ref_range_upper'])\n",
    "qb_labevents.apply_filters(f'itemid IN ({bnp_lab_itemids_str})')\n",
    "\n",
    "# Join datasets\n",
    "qb_diagnoses.join_with(qb_labevents, join_type='inner', columns=['subject_id', 'hadm_id'])\n",
    "\n",
    "# Generate query for joined data\n",
    "qualifying_hosp_admissions_query = qb_diagnoses.generate_query(limit=100)\n",
    "# This query can now be used to extract the relevant joined data\n",
    "print(qualifying_hosp_admissions_query)"
   ]
  },
  {
   "cell_type": "code",
   "execution_count": 18,
   "id": "f9e9e1bc-a037-44a5-a8ba-b9ee7f007946",
   "metadata": {},
   "outputs": [],
   "source": [
    "qualifying_hosp_admissions_df = bq.run_query(spark, qualifying_hosp_admissions_query)"
   ]
  },
  {
   "cell_type": "code",
   "execution_count": 19,
   "id": "3049c0ac-e5a9-4e25-b0f2-b40c8a2d60ce",
   "metadata": {},
   "outputs": [
    {
     "name": "stdout",
     "output_type": "stream",
     "text": [
      "+-----------+--------+---------------+---------------+----------+--------+-------+--------+------+\n",
      "|icd_version| hadm_id|ref_range_upper|ref_range_lower|subject_id|valuenum|seq_num|icd_code|itemid|\n",
      "+-----------+--------+---------------+---------------+----------+--------+-------+--------+------+\n",
      "|         10|23237871|           NULL|           NULL|  11277578|   563.0|     19|  I50811| 51921|\n",
      "|         10|23237871|           NULL|           NULL|  11277578|   563.0|     10|    I132| 51921|\n",
      "|         10|21037414|           NULL|           NULL|  11018073|  4379.0|      7|   I5020| 51921|\n",
      "|         10|25290806|           NULL|           NULL|  15746911| 44473.0|      1|    I132| 51921|\n",
      "|         10|25290806|           NULL|           NULL|  15746911| 44473.0|      3|   I5043| 51921|\n",
      "|         10|27678862|           NULL|           NULL|  13542543| 12107.0|      2|   I5033| 51921|\n",
      "|         10|27678862|           NULL|           NULL|  13542543| 12107.0|      4|    I130| 51921|\n",
      "|         10|22363749|           NULL|           NULL|  13381777|  4141.0|      1|   I5033| 51921|\n",
      "|         10|25161244|           NULL|           NULL|  17072793|  4967.0|      1|    I130| 51921|\n",
      "|         10|25161244|           NULL|           NULL|  17072793|  4967.0|      2|   I5033| 51921|\n",
      "|         10|23321373|           NULL|           NULL|  17181853|  6432.0|      2|    I110| 51921|\n",
      "|         10|23321373|           NULL|           NULL|  17181853|  6432.0|      3|   I5031| 51921|\n",
      "|         10|21434659|           NULL|           NULL|  14578883| 44755.0|      3|   I5033| 51921|\n",
      "|         10|21434659|           NULL|           NULL|  14578883| 44755.0|     22|    I110| 51921|\n",
      "|         10|23101662|           NULL|           NULL|  11467756| 11573.0|     23|  I50812| 51921|\n",
      "|         10|23101662|           NULL|           NULL|  11467756| 11573.0|      1|   I5033| 51921|\n",
      "|          9|29380646|          192.0|            0.0|  10854695|  1588.0|      4|   42831| 50963|\n",
      "|          9|29380646|          192.0|            0.0|  10854695|  1588.0|      5|    4280| 50963|\n",
      "|          9|22550800|          353.0|            0.0|  11105803|  3066.0|     15|    4280| 50963|\n",
      "|          9|22550800|          353.0|            0.0|  11105803|  3066.0|      3|   42831| 50963|\n",
      "+-----------+--------+---------------+---------------+----------+--------+-------+--------+------+\n",
      "only showing top 20 rows\n",
      "\n"
     ]
    }
   ],
   "source": [
    "qualifying_hosp_admissions_df.show()"
   ]
  },
  {
   "cell_type": "code",
   "execution_count": null,
   "id": "efe78972-b68f-4444-a5b8-5ecfd73965f8",
   "metadata": {},
   "outputs": [],
   "source": []
  }
 ],
 "metadata": {
  "kernelspec": {
   "display_name": "Python 3 (ipykernel)",
   "language": "python",
   "name": "python3"
  },
  "language_info": {
   "codemirror_mode": {
    "name": "ipython",
    "version": 3
   },
   "file_extension": ".py",
   "mimetype": "text/x-python",
   "name": "python",
   "nbconvert_exporter": "python",
   "pygments_lexer": "ipython3",
   "version": "3.12.2"
  }
 },
 "nbformat": 4,
 "nbformat_minor": 5
}
