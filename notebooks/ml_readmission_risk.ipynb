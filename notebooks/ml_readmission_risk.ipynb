{
 "cells": [
  {
   "cell_type": "markdown",
   "id": "02f51b7c-85d4-4aed-b2d4-211a5604324b",
   "metadata": {},
   "source": [
    "# Readmission Risk for Heart Failure Patients"
   ]
  },
  {
   "cell_type": "code",
   "execution_count": null,
   "id": "01c12293-30b1-47ba-afe4-84c12cb46652",
   "metadata": {},
   "outputs": [],
   "source": [
    "import mimicfouretl.bigquery_utils as bq\n",
    "from mimicfouretl.data_insights import display_datasets\n",
    "from mimicfouretl.query_builder import QueryBuilder\n",
    "from mimicfouretl.feature_engineering import FeatureEngineering\n",
    "from mimicfouretl.feature_engineering import left_merge_dataframes\n",
    "\n",
    "from pyspark.sql.functions import col\n",
    "\n",
    "from mimicfouretl.ml_utils import MLUtils"
   ]
  },
  {
   "cell_type": "markdown",
   "id": "bc14cf8d-7841-4cd4-bd4a-5ac6e576333b",
   "metadata": {},
   "source": [
    "## Build BigQuery Spark session"
   ]
  },
  {
   "cell_type": "code",
   "execution_count": null,
   "id": "b087c37c-b4fb-419f-92e6-69cc9eb09667",
   "metadata": {},
   "outputs": [],
   "source": [
    "bq.set_credentials_file('../bq_credentials/client_secret.json')\n",
    "bq.set_project_id('mimic-iv-418015')\n",
    "# bq.set_project_id('micro-vine-412020')"
   ]
  },
  {
   "cell_type": "code",
   "execution_count": null,
   "id": "4c54b921-5007-4a61-a353-10e57189db27",
   "metadata": {},
   "outputs": [],
   "source": [
    "client = bq.get_client(use_service_account_auth=False)"
   ]
  },
  {
   "cell_type": "code",
   "execution_count": null,
   "id": "0a5dff49-c560-4872-9e3a-be6c28d786c1",
   "metadata": {},
   "outputs": [],
   "source": [
    "# tables = bq.list_tables('mimiciv_icu', client)\n",
    "tables = bq.list_tables('physionet-data.mimiciv_hosp', client)\n",
    "tables"
   ]
  },
  {
   "cell_type": "code",
   "execution_count": null,
   "id": "bfa5f3ec-35b4-4fd7-849c-f5bb84ec5a26",
   "metadata": {},
   "outputs": [],
   "source": [
    "display_datasets()"
   ]
  },
  {
   "cell_type": "code",
   "execution_count": null,
   "id": "67004ce3-a8f0-4dae-8f20-6cd1326671e1",
   "metadata": {},
   "outputs": [],
   "source": [
    "spark = bq.get_spark_session()"
   ]
  },
  {
   "cell_type": "markdown",
   "id": "34e68ab9-cd63-461e-bc76-963fdeb5ee97",
   "metadata": {},
   "source": [
    "## Get relevant ICD codes and Lab Item IDs"
   ]
  },
  {
   "cell_type": "markdown",
   "id": "4195ca8b-3b4f-495e-86f7-0009b4794d49",
   "metadata": {},
   "source": [
    "### Get ICD codes for heart failure diagnoses"
   ]
  },
  {
   "cell_type": "code",
   "execution_count": null,
   "id": "349f5c09-579e-4ba6-8dff-d88dcb5b5ea3",
   "metadata": {},
   "outputs": [],
   "source": [
    "qb_heart_failure_codes = QueryBuilder(dataset='hosp.d_icd_diagnoses', \n",
    "                                      columns=['icd_code', 'icd_version', 'long_title'],\n",
    "                                      filters=\"LOWER(long_title) LIKE '%heart failure%'\")\n",
    "heart_failure_codes_query = qb_heart_failure_codes.generate_query()\n",
    "print(heart_failure_codes_query)"
   ]
  },
  {
   "cell_type": "code",
   "execution_count": null,
   "id": "4a588775-d091-477b-ae8f-02587a57886d",
   "metadata": {},
   "outputs": [],
   "source": [
    "heart_failure_icd_items = bq.run_query(spark, heart_failure_codes_query)"
   ]
  },
  {
   "cell_type": "code",
   "execution_count": null,
   "id": "14c19ef6-396f-469b-8977-4f5f79d5dc25",
   "metadata": {},
   "outputs": [],
   "source": [
    "heart_failure_icd_items.toPandas()"
   ]
  },
  {
   "cell_type": "markdown",
   "id": "851276f5-440a-4ad5-ae83-7b4295f5007b",
   "metadata": {},
   "source": [
    "#### Transform Heart Failure ICD codes list to string for query"
   ]
  },
  {
   "cell_type": "code",
   "execution_count": null,
   "id": "c1c8adf4-790e-49d9-936a-4d57fab6937d",
   "metadata": {},
   "outputs": [],
   "source": [
    "heart_failure_icd_codes_list = [row['icd_code'] for row in heart_failure_icd_items.select('icd_code').distinct().collect()]"
   ]
  },
  {
   "cell_type": "code",
   "execution_count": null,
   "id": "60e90bf0-98ce-4baf-b8b4-a0985eb60c5f",
   "metadata": {},
   "outputs": [],
   "source": [
    "heart_failure_icd_codes_str = \"'\" + \"', '\".join(heart_failure_icd_codes_list) + \"'\""
   ]
  },
  {
   "cell_type": "markdown",
   "id": "fa02ae48-b85b-49eb-a5a1-23b161843dd0",
   "metadata": {},
   "source": [
    "### Get itemids for BNP labs"
   ]
  },
  {
   "cell_type": "code",
   "execution_count": null,
   "id": "d60160ed-580b-45b9-a45c-2da4caa6f97b",
   "metadata": {},
   "outputs": [],
   "source": [
    "qb_bnp_labs = QueryBuilder(dataset='hosp.d_labitems', \n",
    "                           columns=['itemid', 'label', 'fluid', 'category'],\n",
    "                           filters=[\"LOWER(label) LIKE '%bnp%'\", \"fluid = 'Blood'\"])\n",
    "bnp_labs_query = qb_bnp_labs.generate_query()\n",
    "print(bnp_labs_query)"
   ]
  },
  {
   "cell_type": "code",
   "execution_count": null,
   "id": "335bdccd-11ff-47a1-b907-df922c613404",
   "metadata": {},
   "outputs": [],
   "source": [
    "bnp_lab_items = bq.run_query(spark, bnp_labs_query)"
   ]
  },
  {
   "cell_type": "code",
   "execution_count": null,
   "id": "59e840fa-01a4-440f-ae27-4637eb0fbf06",
   "metadata": {},
   "outputs": [],
   "source": [
    "bnp_lab_items.toPandas()"
   ]
  },
  {
   "cell_type": "markdown",
   "id": "379c61c2-6a4a-45da-b91c-de1d59a348a8",
   "metadata": {},
   "source": [
    "#### Transform BNP Lab item IDs to string for query"
   ]
  },
  {
   "cell_type": "code",
   "execution_count": null,
   "id": "d670991f-8f43-4eb1-8e88-27b08cd01d76",
   "metadata": {},
   "outputs": [],
   "source": [
    "bnp_lab_itemids_list = [row['itemid'] for row in bnp_lab_items.select('itemid').distinct().collect()]"
   ]
  },
  {
   "cell_type": "code",
   "execution_count": null,
   "id": "dd0c3980-977c-4909-bb4f-4358a68e4f02",
   "metadata": {},
   "outputs": [],
   "source": [
    "bnp_lab_itemids_str = ', '.join(str(itemid) for itemid in bnp_lab_itemids_list)"
   ]
  },
  {
   "cell_type": "markdown",
   "id": "c73d3c8c-3cc8-4866-8b39-14b6f6d01b71",
   "metadata": {},
   "source": [
    "## Query MIMIC IV database for Heart Failure diagnoses and BNP labs"
   ]
  },
  {
   "cell_type": "code",
   "execution_count": null,
   "id": "1da90e06-026e-430b-bbb9-7e6794bd350a",
   "metadata": {},
   "outputs": [],
   "source": [
    "# Initialize QueryBuilders\n",
    "qb_diagnoses = QueryBuilder(dataset='hosp.diagnoses_icd', \n",
    "                            columns=['subject_id', 'hadm_id', 'seq_num', 'icd_code', 'icd_version'],\n",
    "                            filters=f'icd_code IN ({heart_failure_icd_codes_str})')\n",
    "\n",
    "qb_labevents = QueryBuilder(dataset='hosp.labevents', \n",
    "                            columns=['subject_id', 'hadm_id', 'itemid', 'valuenum', 'ref_range_lower', 'ref_range_upper'],\n",
    "                            filters=f'itemid IN ({bnp_lab_itemids_str})')\n",
    "\n",
    "# Join datasets\n",
    "qb_diagnoses.join_with(qb_labevents, join_type='inner', columns=['subject_id', 'hadm_id'])\n",
    "\n",
    "# Generate query for joined data\n",
    "qualifying_hosp_admissions_query = qb_diagnoses.generate_query(limit=100000)\n",
    "# This query can now be used to extract the relevant joined data\n",
    "print(qualifying_hosp_admissions_query)"
   ]
  },
  {
   "cell_type": "code",
   "execution_count": null,
   "id": "f9e9e1bc-a037-44a5-a8ba-b9ee7f007946",
   "metadata": {},
   "outputs": [],
   "source": [
    "qualifying_hosp_admissions_df = bq.run_query(spark, qualifying_hosp_admissions_query)"
   ]
  },
  {
   "cell_type": "markdown",
   "id": "a9122415-e759-48cb-82b6-4815de4a740e",
   "metadata": {},
   "source": [
    "## Create binary feature checking if BNP value is outside of reference range"
   ]
  },
  {
   "cell_type": "code",
   "execution_count": null,
   "id": "8084a7ec-657b-4266-bab8-ff3fd5ed129e",
   "metadata": {},
   "outputs": [],
   "source": [
    "feature_engineer = FeatureEngineering(qualifying_hosp_admissions_df)"
   ]
  },
  {
   "cell_type": "code",
   "execution_count": null,
   "id": "bc0d2cb0-6937-41a7-b193-827fdfe56b54",
   "metadata": {},
   "outputs": [],
   "source": [
    "condition_str = \"(valuenum < ref_range_lower) OR (valuenum > ref_range_upper)\"\n",
    "feature_engineer.create_conditional_feature(condition_str, \"bnp_outside_ref_range\")"
   ]
  },
  {
   "cell_type": "code",
   "execution_count": null,
   "id": "a4935693-2e41-40f9-9d84-03c3f1054381",
   "metadata": {},
   "outputs": [],
   "source": [
    "qualifying_hosp_admissions_df = feature_engineer.get_processed_data()\n",
    "qualifying_hosp_admissions_df.toPandas()"
   ]
  },
  {
   "cell_type": "markdown",
   "id": "b4c1aef7-2fa2-439d-bd70-29733fc50b3d",
   "metadata": {},
   "source": [
    "## Get admissions data, filtered by Subject ID of Qualifying Patients"
   ]
  },
  {
   "cell_type": "code",
   "execution_count": null,
   "id": "54c344a1-e8dc-4c8c-9458-9099b967b546",
   "metadata": {},
   "outputs": [],
   "source": [
    "qualifying_hosp_admissions_subject_ids_list = [row['subject_id'] for row in qualifying_hosp_admissions_df.select('subject_id').distinct().collect()]"
   ]
  },
  {
   "cell_type": "code",
   "execution_count": null,
   "id": "5a988ac4-4146-4fb1-b45f-4d7d1fef9086",
   "metadata": {},
   "outputs": [],
   "source": [
    "len(qualifying_hosp_admissions_subject_ids_list)"
   ]
  },
  {
   "cell_type": "code",
   "execution_count": null,
   "id": "3cdc31e4-ced8-4526-ad4a-b7af01d49ada",
   "metadata": {},
   "outputs": [],
   "source": [
    "qualifying_hosp_admissions_subject_ids_str = ', '.join(str(subject_id) for subject_id in qualifying_hosp_admissions_subject_ids_list)"
   ]
  },
  {
   "cell_type": "code",
   "execution_count": null,
   "id": "e87443ad-8c8d-4fcc-a649-18d6b68c3b9d",
   "metadata": {},
   "outputs": [],
   "source": [
    "# Initialize QueryBuilders\n",
    "qb_admissions = QueryBuilder(dataset='hosp.admissions',\n",
    "                             filters=f'subject_id IN ({qualifying_hosp_admissions_subject_ids_str})')\n",
    "\n",
    "# Generate query for joined data\n",
    "admissions_query = qb_admissions.generate_query(limit=100000)\n",
    "# This query can now be used to extract the relevant joined data\n",
    "#print(admissions_query)"
   ]
  },
  {
   "cell_type": "code",
   "execution_count": null,
   "id": "05d56400-cb1d-404b-a676-85bf59920657",
   "metadata": {},
   "outputs": [],
   "source": [
    "admissions_df = bq.run_query(spark, admissions_query)"
   ]
  },
  {
   "cell_type": "code",
   "execution_count": null,
   "id": "0f65dfeb-c9b8-4493-9d0d-e57cefe67cd5",
   "metadata": {},
   "outputs": [],
   "source": [
    "admissions_df.toPandas()"
   ]
  },
  {
   "cell_type": "markdown",
   "id": "1aa7273e-a778-416f-bd22-bad7e175c196",
   "metadata": {},
   "source": [
    "## Count Previous Admissions for Qualifying Patients"
   ]
  },
  {
   "cell_type": "code",
   "execution_count": null,
   "id": "69ad03f7-3036-48a9-85b5-bdd711e3f985",
   "metadata": {},
   "outputs": [],
   "source": [
    "feature_engineer = FeatureEngineering(admissions_df)"
   ]
  },
  {
   "cell_type": "code",
   "execution_count": null,
   "id": "67f8c7f1-a43f-4568-9ea2-03c3b83e51ea",
   "metadata": {},
   "outputs": [],
   "source": [
    "feature_engineer.count_previous_events(\n",
    "    partition_column='subject_id',\n",
    "    order_column='admittime',\n",
    "    event_column='hadm_id'\n",
    ")"
   ]
  },
  {
   "cell_type": "code",
   "execution_count": null,
   "id": "05ac388a-3bab-459f-9d1f-2a32edd99d9d",
   "metadata": {},
   "outputs": [],
   "source": [
    "admissions_df = feature_engineer.get_processed_data()\n",
    "admissions_df.toPandas()"
   ]
  },
  {
   "cell_type": "markdown",
   "id": "fcc55944-1f36-448a-a7e1-97ed1c63d3c3",
   "metadata": {},
   "source": [
    "## Check for Readmission within 30, 90, and 180 days"
   ]
  },
  {
   "cell_type": "code",
   "execution_count": null,
   "id": "a7ecf93a-a632-43d5-97e0-4ae5b6ec4308",
   "metadata": {},
   "outputs": [],
   "source": [
    "feature_engineer.check_event_within_timeframe(\n",
    "    partition_column='subject_id',\n",
    "    event_column='admittime', \n",
    "    timeframe=30\n",
    ")"
   ]
  },
  {
   "cell_type": "code",
   "execution_count": null,
   "id": "fbc473ca-b0e3-4700-a051-d110946c287d",
   "metadata": {},
   "outputs": [],
   "source": [
    "feature_engineer.check_event_within_timeframe(\n",
    "    partition_column='subject_id',\n",
    "    event_column='admittime', \n",
    "    timeframe=90\n",
    ")"
   ]
  },
  {
   "cell_type": "code",
   "execution_count": null,
   "id": "ce2c940a-f627-4840-9cdf-37bdd5337aef",
   "metadata": {},
   "outputs": [],
   "source": [
    "feature_engineer.check_event_within_timeframe(\n",
    "    partition_column='subject_id',\n",
    "    event_column='admittime', \n",
    "    timeframe=180\n",
    ")"
   ]
  },
  {
   "cell_type": "code",
   "execution_count": null,
   "id": "c64f363d-f46f-41e9-87c3-3489b06eb5c3",
   "metadata": {},
   "outputs": [],
   "source": [
    "admissions_df = feature_engineer.get_processed_data()\n",
    "admissions_df.toPandas()"
   ]
  },
  {
   "cell_type": "markdown",
   "id": "aabd5fd5-6fbe-4354-a73f-22a6f9e3f3a9",
   "metadata": {},
   "source": [
    "## Merge Admissions data with Qualifying Admissions data"
   ]
  },
  {
   "cell_type": "code",
   "execution_count": null,
   "id": "1c55c362-8eb9-4b97-b63b-6722dc608d1c",
   "metadata": {},
   "outputs": [],
   "source": [
    "merged_df = left_merge_dataframes(qualifying_hosp_admissions_df, admissions_df, ['subject_id', 'hadm_id'])"
   ]
  },
  {
   "cell_type": "code",
   "execution_count": null,
   "id": "f3894651-9c59-4b17-8470-f112fbc7d594",
   "metadata": {},
   "outputs": [],
   "source": [
    "merged_df.toPandas()"
   ]
  },
  {
   "cell_type": "markdown",
   "id": "05183e8c-b755-4ddb-b8f4-4dd8b986204a",
   "metadata": {},
   "source": [
    "## Get Patient Data for Qualifying Patients"
   ]
  },
  {
   "cell_type": "code",
   "execution_count": null,
   "id": "fa656876-0c52-4a4a-927f-ad11ae419a14",
   "metadata": {},
   "outputs": [],
   "source": [
    "# Initialize QueryBuilders\n",
    "qb_patients = QueryBuilder(dataset='hosp.patients',\n",
    "                           columns=['subject_id', 'gender', 'anchor_age'],\n",
    "                           filters=f'subject_id IN ({qualifying_hosp_admissions_subject_ids_str})')\n",
    "\n",
    "# Generate query for joined data\n",
    "patients_query = qb_patients.generate_query(limit=100000)\n",
    "# This query can now be used to extract the relevant joined data\n",
    "# print(patients_query)"
   ]
  },
  {
   "cell_type": "code",
   "execution_count": null,
   "id": "d0a9473e-2b43-460a-936e-f6c1295bfd05",
   "metadata": {},
   "outputs": [],
   "source": [
    "patients_df = bq.run_query(spark, patients_query)"
   ]
  },
  {
   "cell_type": "code",
   "execution_count": null,
   "id": "83202fb6-cdaa-48b1-a0b8-2335df2782c0",
   "metadata": {},
   "outputs": [],
   "source": [
    "patients_df.toPandas()"
   ]
  },
  {
   "cell_type": "markdown",
   "id": "5e1a7e1f-22db-4669-9016-21f4679c36da",
   "metadata": {},
   "source": [
    "### Merge Patients Data"
   ]
  },
  {
   "cell_type": "code",
   "execution_count": null,
   "id": "9db0bd14-baa8-4545-9958-a350f05feb63",
   "metadata": {},
   "outputs": [],
   "source": [
    "merged_df = left_merge_dataframes(merged_df, patients_df, ['subject_id'])"
   ]
  },
  {
   "cell_type": "markdown",
   "id": "662134b4-e70f-4619-8060-c3c13d058e85",
   "metadata": {},
   "source": [
    "## Create Demographic Features"
   ]
  },
  {
   "cell_type": "code",
   "execution_count": null,
   "id": "90a6080d-18aa-44ab-9643-75a09086270b",
   "metadata": {},
   "outputs": [],
   "source": [
    "demographic_features = {\n",
    "    \"gender_male\": \"LOWER(gender) LIKE '%m%'\",\n",
    "    \"race_white\": \"LOWER(race) LIKE '%white%'\",\n",
    "    \"race_black\": \"LOWER(race) LIKE '%black%'\",\n",
    "    \"race_hispanic_latino\": \"LOWER(race) LIKE '%hispanic%' OR LOWER(race) LIKE '%latino%'\",\n",
    "    \"race_asian\": \"LOWER(race) LIKE '%asian%'\",\n",
    "    \"insurance_medicare\": \"LOWER(insurance) LIKE '%medicare%'\",\n",
    "    \"insurance_medicaid\": \"LOWER(insurance) LIKE '%medicaid%'\",\n",
    "    \"marital_status_married\": \"LOWER(marital_status) LIKE '%married%'\",\n",
    "    \"marital_status_single\": \"LOWER(marital_status) LIKE '%single%'\",\n",
    "    \"marital_status_widowed\": \"LOWER(marital_status) LIKE '%widowed%'\",\n",
    "    \"marital_status_divorced\": \"LOWER(marital_status) LIKE '%divorced%'\"\n",
    "}"
   ]
  },
  {
   "cell_type": "code",
   "execution_count": null,
   "id": "616452bc-8bf6-4576-b060-17dc44a1c941",
   "metadata": {},
   "outputs": [],
   "source": [
    "feature_engineer = FeatureEngineering(merged_df)\n",
    "for feature_name, condition in demographic_features.items():\n",
    "    feature_engineer.create_conditional_feature(condition, feature_name)"
   ]
  },
  {
   "cell_type": "code",
   "execution_count": null,
   "id": "3a7c259d-9e34-4bab-bf14-aafbdf460489",
   "metadata": {},
   "outputs": [],
   "source": [
    "processed_df = feature_engineer.get_processed_data()\n",
    "processed_df.toPandas()"
   ]
  },
  {
   "cell_type": "markdown",
   "id": "f9912e8c-4430-403f-a9d0-b7ced1d3d312",
   "metadata": {},
   "source": [
    "## Clean up Final DataFrame"
   ]
  },
  {
   "cell_type": "code",
   "execution_count": null,
   "id": "e38156c2-de97-4b91-b426-c4cf38ebd888",
   "metadata": {},
   "outputs": [],
   "source": [
    "processed_df = processed_df.withColumnRenamed('previous_hadm_id', 'n_prev_hosp_admissions')"
   ]
  },
  {
   "cell_type": "code",
   "execution_count": null,
   "id": "2917cb06-fd36-4501-913d-fe64a97ce1e8",
   "metadata": {},
   "outputs": [],
   "source": [
    "features = ['subject_id',\n",
    " 'hadm_id',\n",
    " 'seq_num',\n",
    " 'admittime',\n",
    " 'dischtime',\n",
    " 'deathtime',\n",
    " 'valuenum',\n",
    " 'bnp_outside_ref_range',\n",
    " 'n_prev_hosp_admissions',\n",
    " 'anchor_age',\n",
    " 'gender_male',\n",
    " 'race_white',\n",
    " 'race_black',\n",
    " 'race_hispanic_latino',\n",
    " 'race_asian',\n",
    " 'insurance_medicare',\n",
    " 'insurance_medicaid',\n",
    " 'marital_status_married',\n",
    " 'marital_status_single',\n",
    " 'marital_status_widowed',\n",
    " 'marital_status_divorced',\n",
    " 'admittime_within_30_days',\n",
    " 'admittime_within_90_days',\n",
    " 'admittime_within_180_days']"
   ]
  },
  {
   "cell_type": "code",
   "execution_count": null,
   "id": "3837d766-3e11-4645-a872-7da114023b54",
   "metadata": {},
   "outputs": [],
   "source": [
    "final_df = processed_df.select([col(f) for f in features])\n",
    "final_df.toPandas()"
   ]
  },
  {
   "cell_type": "code",
   "execution_count": null,
   "id": "8e939c62-7ddc-4727-ad29-149ce4e40ba5",
   "metadata": {},
   "outputs": [],
   "source": [
    "# Initialize MLUtils with the DataFrame\n",
    "ml_utils = MLUtils(final_df)\n",
    "\n",
    "# Set the target and feature columns\n",
    "target_column = 'admittime_within_180_days' \n",
    "feature_columns = ['valuenum',\n",
    "                   'bnp_outside_ref_range',\n",
    "                   'n_prev_hosp_admissions',\n",
    "                   'anchor_age',\n",
    "                   'gender_male',\n",
    "                   'race_white',\n",
    "                   'race_black',\n",
    "                   'race_hispanic_latino',\n",
    "                   'race_asian',\n",
    "                   'insurance_medicare',\n",
    "                   'insurance_medicaid',\n",
    "                   'marital_status_married',\n",
    "                   'marital_status_single',\n",
    "                   'marital_status_widowed',\n",
    "                   'marital_status_divorced']\n",
    "\n",
    "ml_utils.set_target(target_column)\n",
    "ml_utils.set_features(feature_columns)\n",
    "\n",
    "# Drop all rows where a feature or target value is NaN\n",
    "ml_utils.clean_data(verbose=True)\n",
    "\n",
    "# Split data into training, validation, and testing sets\n",
    "ml_utils.split_data(ratio=(0.7, 0.15, 0.15))\n",
    "\n",
    "# Train the model using XGBoost with SMOTE and undersampling\n",
    "ml_utils.train_classification_model(smote=True, undersample_factor=0.5, verbose=True)\n",
    "\n",
    "# Evaluate the model on validation and test datasets\n",
    "validation_metrics = ml_utils.evaluate_classification_model(eval_type='val')\n",
    "test_metrics = ml_utils.evaluate_classification_model(eval_type='test')\n",
    "\n",
    "# Print evaluation metrics\n",
    "display(\"Validation Metrics:\", validation_metrics)\n",
    "display(\"Test Metrics:\", test_metrics)\n",
    "\n",
    "ml_utils.display_confusion_matrix('val')\n",
    "ml_utils.display_confusion_matrix('test')"
   ]
  },
  {
   "cell_type": "code",
   "execution_count": null,
   "id": "6a3bb31a-b4f0-4187-b3bd-692b6b2abe4b",
   "metadata": {},
   "outputs": [],
   "source": [
    "ml_utils.optimize_with_optuna(model_type='classification', \n",
    "                              n_trials=500, \n",
    "                              storage_url='sqlite:///optuna_study_02.db')"
   ]
  },
  {
   "cell_type": "code",
   "execution_count": null,
   "id": "04f6f267-bfd2-4f6a-84a1-db93c3b0b6ba",
   "metadata": {},
   "outputs": [],
   "source": [
    "# Evaluate the model on validation and test datasets\n",
    "validation_metrics = ml_utils.evaluate_classification_model(eval_type='val')\n",
    "test_metrics = ml_utils.evaluate_classification_model(eval_type='test')\n",
    "\n",
    "# Print evaluation metrics\n",
    "display(\"Validation Metrics:\", validation_metrics)\n",
    "display(\"Test Metrics:\", test_metrics)\n",
    "\n",
    "ml_utils.display_confusion_matrix('val')\n",
    "ml_utils.display_confusion_matrix('test')"
   ]
  },
  {
   "cell_type": "code",
   "execution_count": null,
   "id": "64769ade-5c39-436d-be96-90b563b4da59",
   "metadata": {},
   "outputs": [],
   "source": [
    "shap_values = ml_utils.compute_shap_values()"
   ]
  },
  {
   "cell_type": "code",
   "execution_count": null,
   "id": "b68a88c3-e003-4ab7-8cad-0eec3fbff7c2",
   "metadata": {},
   "outputs": [],
   "source": [
    "ml_utils.visualize_shap_values(shap_values, plot_type='bar')"
   ]
  },
  {
   "cell_type": "code",
   "execution_count": null,
   "id": "32ea4b89-8c69-4ea2-bada-51e372e30184",
   "metadata": {},
   "outputs": [],
   "source": [
    "ml_utils.visualize_shap_values(shap_values, plot_type='bee_swarm')"
   ]
  },
  {
   "cell_type": "code",
   "execution_count": null,
   "id": "89a3c191-c19a-4c1a-b6af-eb512457a403",
   "metadata": {},
   "outputs": [],
   "source": [
    "ml_utils.visualize_shap_values(shap_values, plot_type='waterfall', sample_number=3)"
   ]
  },
  {
   "cell_type": "code",
   "execution_count": null,
   "id": "377fd6a4-7951-4328-8d52-931cde745754",
   "metadata": {},
   "outputs": [],
   "source": [
    "ml_utils.visualize_shap_values(shap_values, plot_type='dependence', feature_name='n_prev_hosp_admissions')"
   ]
  },
  {
   "cell_type": "code",
   "execution_count": null,
   "id": "9bfa2be5-2f47-4aa5-b30c-dba5879c4691",
   "metadata": {},
   "outputs": [],
   "source": []
  }
 ],
 "metadata": {
  "kernelspec": {
   "display_name": "Python 3 (ipykernel)",
   "language": "python",
   "name": "python3"
  },
  "language_info": {
   "codemirror_mode": {
    "name": "ipython",
    "version": 3
   },
   "file_extension": ".py",
   "mimetype": "text/x-python",
   "name": "python",
   "nbconvert_exporter": "python",
   "pygments_lexer": "ipython3",
   "version": "3.12.2"
  }
 },
 "nbformat": 4,
 "nbformat_minor": 5
}
