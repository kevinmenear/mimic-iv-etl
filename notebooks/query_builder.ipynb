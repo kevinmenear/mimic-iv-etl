{
 "cells": [
  {
   "cell_type": "markdown",
   "id": "6345d4c4-c9e8-4b41-a030-e096d26b7815",
   "metadata": {},
   "source": [
    "# Guide to Using QueryBuilder\n",
    "\n",
    "The `QueryBuilder` class is designed to facilitate the creation of SQL queries through an object-oriented approach. Below is a step-by-step guide on how to use this class effectively.\n",
    "\n",
    "## Step 1: Initialize the QueryBuilder\n",
    "Start by creating a `QueryBuilder` object for your primary dataset.\n",
    "\n",
    "```\n",
    "qb_main = QueryBuilder('main_dataset_name')\n",
    "```\n",
    "\n",
    "## Step 2: Select Columns (Optional)\n",
    "If you need specific columns from your dataset, use the select_columns method.\n",
    "\n",
    "```\n",
    "qb_main.select_columns(['column1', 'column2'])\n",
    "```\n",
    "\n",
    "## Step 3: Apply Filters\n",
    "You can filter your dataset based on certain conditions.\n",
    "\n",
    "```\n",
    "qb_main.apply_filters('column1 > 10')\n",
    "```\n",
    "## Step 4: Join with Other Datasets\n",
    "To join your main dataset with others, create additional QueryBuilder instances and join them.\n",
    "\n",
    "```\n",
    "qb_additional = QueryBuilder('additional_dataset_name')\n",
    "qb_additional.select_columns(['columnA', 'columnB'])\n",
    "qb_additional.apply_filters('columnA = value')\n",
    "qb_main.join_with(qb_additional, 'left', ['column_to_join_on'])\n",
    "```\n",
    "## Step 5: Generate the Final Query\n",
    "Once all joins and filters are applied, use generate_query to create your SQL query.\n",
    "\n",
    "```\n",
    "final_query = qb_main.generate_query()\n",
    "```\n",
    "\n",
    "***Note: Iteratively joining QueryBuilder objects to a main object is recommended for clarity.***"
   ]
  },
  {
   "cell_type": "code",
   "execution_count": 2,
   "id": "0493eb4d-3a03-454b-8c34-7abe628ee33b",
   "metadata": {},
   "outputs": [
    {
     "name": "stdout",
     "output_type": "stream",
     "text": [
      "SELECT a1, a2, a3, b1, b2, b3, c1, c2, c3\n",
      "FROM `data_a`\n",
      "INNER JOIN `data_b` ON data_a.a1 = data_b.b1 AND data_a.a2 = data_b.b2\n",
      "INNER JOIN `data_c` ON data_a.a1 = data_c.c1\n",
      "WHERE a1 > 1 AND a2 < 3 AND b1 < 3 AND c1 = 5\n"
     ]
    }
   ],
   "source": [
    "from mimicfouretl.query_builder import QueryBuilder\n",
    "\n",
    "# Example usage\n",
    "qb1 = QueryBuilder(\"data_a\", columns=[\"a1\", \"a2\", \"a3\"], filters=[\"a1 > 1\", \"a2 < 3\"])\n",
    "\n",
    "qb2 = QueryBuilder(\"data_b\", filters=\"b1 < 3\")\n",
    "qb2.select_columns([\"b1\", \"b2\", \"b3\"])\n",
    "\n",
    "qb3 = QueryBuilder(\"data_c\", columns=[\"c1\", \"c2\", \"c3\"])\n",
    "qb3.apply_filters(\"c1 = 5\")\n",
    "\n",
    "qb1.join_with(qb2, \"inner\", [\"data_a.a1 = data_b.b1\", \"data_a.a2 = data_b.b2\"] )\n",
    "qb1.join_with(qb3, \"inner\", \"data_a.a1 = data_c.c1\")\n",
    "\n",
    "final_query = qb1.generate_query()\n",
    "print(final_query)"
   ]
  },
  {
   "cell_type": "code",
   "execution_count": 7,
   "id": "68cc9e8e-0f8f-4d4e-aefa-4e2049db617e",
   "metadata": {},
   "outputs": [],
   "source": [
    "if None:\n",
    "    print(True)"
   ]
  },
  {
   "cell_type": "code",
   "execution_count": null,
   "id": "8998407e-1f9c-4fea-9933-fb972a0668df",
   "metadata": {},
   "outputs": [],
   "source": [
    " "
   ]
  }
 ],
 "metadata": {
  "kernelspec": {
   "display_name": "Python 3 (ipykernel)",
   "language": "python",
   "name": "python3"
  },
  "language_info": {
   "codemirror_mode": {
    "name": "ipython",
    "version": 3
   },
   "file_extension": ".py",
   "mimetype": "text/x-python",
   "name": "python",
   "nbconvert_exporter": "python",
   "pygments_lexer": "ipython3",
   "version": "3.12.2"
  }
 },
 "nbformat": 4,
 "nbformat_minor": 5
}
