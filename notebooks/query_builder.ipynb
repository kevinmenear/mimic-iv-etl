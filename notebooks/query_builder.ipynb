{
 "cells": [
  {
   "cell_type": "markdown",
   "id": "6345d4c4-c9e8-4b41-a030-e096d26b7815",
   "metadata": {},
   "source": [
    "# Guide to Using QueryBuilder\n",
    "\n",
    "The `QueryBuilder` class is designed to facilitate the creation of SQL queries through an object-oriented approach. Below is a step-by-step guide on how to use this class effectively.\n",
    "\n",
    "## Step 1: Initialize the QueryBuilder\n",
    "Start by creating a `QueryBuilder` object for your primary dataset.\n",
    "\n",
    "```\n",
    "qb_main = QueryBuilder('main_dataset_name')\n",
    "```\n",
    "\n",
    "## Step 2: Select Columns (Optional)\n",
    "If you need specific columns from your dataset, use the select_columns method.\n",
    "\n",
    "```\n",
    "qb_main.select_columns(['column1', 'column2'])\n",
    "```\n",
    "\n",
    "## Step 3: Apply Filters\n",
    "You can filter your dataset based on certain conditions.\n",
    "\n",
    "***Note: The QueryBuilder object can optionally be initialized with selected columns and filters.***\n",
    "```\n",
    "qb_main.apply_filters('column1 > 10')\n",
    "```\n",
    "## Step 4: Join with Other Datasets\n",
    "To join your main dataset with others, create additional QueryBuilder instances and join them.\n",
    "\n",
    "```\n",
    "qb_additional = QueryBuilder('additional_dataset_name')\n",
    "qb_additional.select_columns(['columnA', 'columnB'])\n",
    "qb_additional.apply_filters('columnA = value')\n",
    "qb_main.join_with(qb_additional, 'left', ['column_to_join_on'])\n",
    "```\n",
    "## Step 5: Generate the Final Query\n",
    "Once all joins and filters are applied, use generate_query to create your SQL query.\n",
    "\n",
    "```\n",
    "final_query = qb_main.generate_query()\n",
    "```\n",
    "\n",
    "***Note: Iteratively joining QueryBuilder objects to a main object is recommended for clarity.***\n",
    "\n",
    "Example Usage:\n",
    "```\n",
    "# Example usage\n",
    "admissions_qb = QueryBuilder(\"hosp.admissions\", \n",
    "                   columns=[\"subject_id\", \"hadm_id\", \"admittime\", \"deathtime\"], \n",
    "                   filters=[\"DATE_PART('day', deathtime - admittime) < 10\"])\n",
    "labevents_qb = QueryBuilder(\"hosp.labevents\", \n",
    "                   columns=[\"labevent_id\", \"subject_id\", \"hadm_id\", \"itemid\", \"charttime\"], \n",
    "                   filters=[\"itemid = 51256\"])\n",
    "patients_qb = QueryBuilder(\"hosp.patients\", \n",
    "                   columns=[\"subject_id\", \"gender\", \"anchor_age\"], \n",
    "                   filters=[\"gender = 'male'\", \"anchor_age > 65\"])\n",
    "\n",
    "admissions_qb.join_with(labevents_qb, \n",
    "                        \"inner\", \n",
    "                        [\"subject_id\", \"hadm_id\"] )\n",
    "admissions_qb.join_with(patients_qb, \n",
    "                        \"inner\", \n",
    "                        [\"subject_id\"] )\n",
    "\n",
    "final_query = admissions_qb.generate_query()\n",
    "print(final_query)\n",
    "```\n",
    "\n",
    "Example Output:\n",
    "```\n",
    "SELECT anchor_age, gender, charttime, deathtime, itemid, hadm_id, subject_id, labevent_id, admittime\n",
    "FROM `physionet_data.mimiciv_hosp.admissions`\n",
    "INNER JOIN `physionet_data.mimiciv_hosp.labevents` ON physionet_data.mimiciv_hosp.admissions.subject_id = physionet_data.mimiciv_hosp.labevents.subject_id AND physionet_data.mimiciv_hosp.admissions.hadm_id = physionet_data.mimiciv_hosp.labevents.hadm_id\n",
    "INNER JOIN `physionet_data.mimiciv_hosp.patients` ON physionet_data.mimiciv_hosp.admissions.subject_id = physionet_data.mimiciv_hosp.patients.subject_id\n",
    "WHERE DATE_PART('day', deathtime - admittime) < 10 AND itemid = 51256 AND gender = 'male' AND anchor_age > 65\n",
    "```"
   ]
  },
  {
   "cell_type": "code",
   "execution_count": 4,
   "id": "9acabf14-454c-472a-bd7f-da2149b254fa",
   "metadata": {},
   "outputs": [],
   "source": [
    "from mimicfouretl.data_insights import display_datasets\n",
    "from mimicfouretl.query_builder import QueryBuilder"
   ]
  },
  {
   "cell_type": "code",
   "execution_count": 2,
   "id": "f0809684-4855-4d2c-a2ee-667b5bdc321b",
   "metadata": {},
   "outputs": [
    {
     "data": {
      "application/vnd.jupyter.widget-view+json": {
       "model_id": "bf6c0a1e1faa4ef1bdb168bffbed37c4",
       "version_major": 2,
       "version_minor": 0
      },
      "text/plain": [
       "Dropdown(description='Dataset:', options=('hosp.provider', 'hosp.services', 'hosp.d_icd_procedures', 'hosp.pre…"
      ]
     },
     "metadata": {},
     "output_type": "display_data"
    },
    {
     "data": {
      "application/vnd.jupyter.widget-view+json": {
       "model_id": "795d1cf174454d5bb8965f94150ba277",
       "version_major": 2,
       "version_minor": 0
      },
      "text/plain": [
       "Output()"
      ]
     },
     "metadata": {},
     "output_type": "display_data"
    }
   ],
   "source": [
    "display_datasets()"
   ]
  },
  {
   "cell_type": "code",
   "execution_count": 3,
   "id": "0493eb4d-3a03-454b-8c34-7abe628ee33b",
   "metadata": {},
   "outputs": [
    {
     "name": "stdout",
     "output_type": "stream",
     "text": [
      "SELECT anchor_age, gender, charttime, deathtime, itemid, hadm_id, subject_id, labevent_id, admittime\n",
      "FROM `physionet_data.mimiciv_hosp.admissions`\n",
      "INNER JOIN `physionet_data.mimiciv_hosp.labevents` ON physionet_data.mimiciv_hosp.admissions.subject_id = physionet_data.mimiciv_hosp.labevents.subject_id AND physionet_data.mimiciv_hosp.admissions.hadm_id = physionet_data.mimiciv_hosp.labevents.hadm_id\n",
      "INNER JOIN `physionet_data.mimiciv_hosp.patients` ON physionet_data.mimiciv_hosp.admissions.subject_id = physionet_data.mimiciv_hosp.patients.subject_id\n",
      "WHERE DATE_PART('day', deathtime - admittime) < 10 AND itemid = 51256 AND gender = 'male' AND anchor_age > 65\n"
     ]
    }
   ],
   "source": [
    "# Example usage\n",
    "admissions_qb = QueryBuilder(\"hosp.admissions\", \n",
    "                   columns=[\"subject_id\", \"hadm_id\", \"admittime\", \"deathtime\"], \n",
    "                   filters=[\"DATE_PART('day', deathtime - admittime) < 10\"])\n",
    "labevents_qb = QueryBuilder(\"hosp.labevents\", \n",
    "                   columns=[\"labevent_id\", \"subject_id\", \"hadm_id\", \"itemid\", \"charttime\"], \n",
    "                   filters=[\"itemid = 51256\"])\n",
    "patients_qb = QueryBuilder(\"hosp.patients\", \n",
    "                   columns=[\"subject_id\", \"gender\", \"anchor_age\"], \n",
    "                   filters=[\"gender = 'male'\", \"anchor_age > 65\"])\n",
    "\n",
    "admissions_qb.join_with(labevents_qb, \n",
    "                        \"inner\", \n",
    "                        [\"subject_id\", \"hadm_id\"] )\n",
    "admissions_qb.join_with(patients_qb, \n",
    "                        \"inner\", \n",
    "                        [\"subject_id\"] )\n",
    "\n",
    "final_query = admissions_qb.generate_query()\n",
    "print(final_query)"
   ]
  }
 ],
 "metadata": {
  "kernelspec": {
   "display_name": "Python 3 (ipykernel)",
   "language": "python",
   "name": "python3"
  },
  "language_info": {
   "codemirror_mode": {
    "name": "ipython",
    "version": 3
   },
   "file_extension": ".py",
   "mimetype": "text/x-python",
   "name": "python",
   "nbconvert_exporter": "python",
   "pygments_lexer": "ipython3",
   "version": "3.12.2"
  }
 },
 "nbformat": 4,
 "nbformat_minor": 5
}
